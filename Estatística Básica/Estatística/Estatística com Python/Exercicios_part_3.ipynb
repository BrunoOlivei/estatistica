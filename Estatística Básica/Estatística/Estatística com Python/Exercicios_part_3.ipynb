{
 "cells": [
  {
   "cell_type": "markdown",
   "id": "1eeaea1e-11e1-4fb2-be0d-9c0f41414803",
   "metadata": {},
   "source": [
    "# Exercícios"
   ]
  },
  {
   "cell_type": "code",
   "execution_count": 1,
   "id": "c3fd2f97-1178-40ee-813a-f0e2ed1dfe76",
   "metadata": {},
   "outputs": [],
   "source": [
    "import numpy as np"
   ]
  },
  {
   "cell_type": "markdown",
   "id": "91fe3849-5d30-4775-9bc3-e5a354d5ef6e",
   "metadata": {},
   "source": [
    "## Exercício 01"
   ]
  },
  {
   "cell_type": "markdown",
   "id": "6230967a-2326-49c2-8839-926e2815f409",
   "metadata": {},
   "source": [
    "Um fabricante de farinha afirma que a quantidade média de farinha nas embalagens de seu principal produto é de 500 g. Um teste de pesagem em 30 embalagens amostradas ao acaso mostrou um peso médio igual à 485 g. Estudos anteriores afirmam que a distribuição dos pesos segue uma normal e que o desvio padrão populacional é igual a 20 g. Considerando um nível de significância igual a 5%, responda as seguintes questões:"
   ]
  },
  {
   "cell_type": "markdown",
   "id": "936b4a34-be50-42ab-bd0d-bcf67fdbdbb5",
   "metadata": {},
   "source": [
    "### Dados do Exercício"
   ]
  },
  {
   "cell_type": "markdown",
   "id": "7af65e80-1cf9-4da5-817a-f635bc6684db",
   "metadata": {},
   "source": [
    "Distribuição dos pesos segue uma normal"
   ]
  },
  {
   "cell_type": "code",
   "execution_count": 2,
   "id": "63a3235b-b44e-4a7c-a573-1c42a7478723",
   "metadata": {},
   "outputs": [
    {
     "data": {
      "text/plain": [
       "500"
      ]
     },
     "execution_count": 2,
     "metadata": {},
     "output_type": "execute_result"
    }
   ],
   "source": [
    "# Quantidade média de farinha nas embalagens de seu principal produto é de 500 g\n",
    "media_populacional = 500\n",
    "media_populacional"
   ]
  },
  {
   "cell_type": "code",
   "execution_count": 3,
   "id": "b85a552d-5917-40f5-ae58-f553ff286aef",
   "metadata": {},
   "outputs": [
    {
     "data": {
      "text/plain": [
       "30"
      ]
     },
     "execution_count": 3,
     "metadata": {},
     "output_type": "execute_result"
    }
   ],
   "source": [
    "# Um teste de pesagem em 30 embalagens amostradas\n",
    "n = 30\n",
    "n"
   ]
  },
  {
   "cell_type": "code",
   "execution_count": 4,
   "id": "0d0cf611-2433-4207-aaaa-62b15d18e3ab",
   "metadata": {},
   "outputs": [
    {
     "data": {
      "text/plain": [
       "485"
      ]
     },
     "execution_count": 4,
     "metadata": {},
     "output_type": "execute_result"
    }
   ],
   "source": [
    "# Mostrou um peso médio igual à 485 g\n",
    "media_amostra = 485\n",
    "media_amostra"
   ]
  },
  {
   "cell_type": "code",
   "execution_count": 5,
   "id": "64704125-84e8-49fc-8cf9-4d53124a7cf0",
   "metadata": {},
   "outputs": [
    {
     "data": {
      "text/plain": [
       "20"
      ]
     },
     "execution_count": 5,
     "metadata": {},
     "output_type": "execute_result"
    }
   ],
   "source": [
    "# O desvio padrão populacional é igual a 20 g\n",
    "desvio_padrao_populacional = 20\n",
    "desvio_padrao_populacional"
   ]
  },
  {
   "cell_type": "code",
   "execution_count": 6,
   "id": "b90d4448-5149-4003-a314-1d68e2bc6123",
   "metadata": {},
   "outputs": [
    {
     "data": {
      "text/plain": [
       "0.05"
      ]
     },
     "execution_count": 6,
     "metadata": {},
     "output_type": "execute_result"
    }
   ],
   "source": [
    "# Considerando um nível de significância igual a 5%\n",
    "significancia = 0.05\n",
    "significancia"
   ]
  },
  {
   "cell_type": "markdown",
   "id": "3f7fd0d9-6410-47e1-898c-134350b05519",
   "metadata": {},
   "source": [
    "1) **Qual a hipótese nula a ser testada?**"
   ]
  },
  {
   "cell_type": "code",
   "execution_count": 7,
   "id": "e97882e4-ce38-4892-9d6d-1c8fe72f3708",
   "metadata": {},
   "outputs": [],
   "source": [
    "hipotese_nula = 500"
   ]
  },
  {
   "cell_type": "markdown",
   "id": "a0de5cd2-7c71-4624-a114-249e08928eea",
   "metadata": {},
   "source": [
    "---"
   ]
  },
  {
   "cell_type": "markdown",
   "id": "d412f171-b1fb-40db-9a96-6b686840be30",
   "metadata": {},
   "source": [
    "2) **Qual o valor da estatística de teste?**"
   ]
  },
  {
   "cell_type": "markdown",
   "id": "cb83ffda-783e-41ff-9fb5-d2fb9bdc8d57",
   "metadata": {},
   "source": [
    "$$z = \\frac{\\bar{x} - \\mu_0}{\\frac{\\sigma}{\\sqrt{n}}}$$"
   ]
  },
  {
   "cell_type": "code",
   "execution_count": 8,
   "id": "21282deb-1271-448b-9b6a-688298ddeed2",
   "metadata": {},
   "outputs": [
    {
     "data": {
      "text/plain": [
       "0.95"
      ]
     },
     "execution_count": 8,
     "metadata": {},
     "output_type": "execute_result"
    }
   ],
   "source": [
    "confianca = 1 - significancia\n",
    "confianca"
   ]
  },
  {
   "cell_type": "code",
   "execution_count": 9,
   "id": "d0542c14-8428-47ed-8baa-728371ad70e2",
   "metadata": {},
   "outputs": [
    {
     "data": {
      "text/plain": [
       "0.975"
      ]
     },
     "execution_count": 9,
     "metadata": {},
     "output_type": "execute_result"
    }
   ],
   "source": [
    "probabilidade = (0.5 + (confianca / 2))\n",
    "probabilidade"
   ]
  },
  {
   "cell_type": "code",
   "execution_count": 10,
   "id": "d67dc25d-ac9b-4094-9d77-b8a296cfef7f",
   "metadata": {},
   "outputs": [
    {
     "data": {
      "text/plain": [
       "-4.107919181288746"
      ]
     },
     "execution_count": 10,
     "metadata": {},
     "output_type": "execute_result"
    }
   ],
   "source": [
    "z = (media_amostra - media_populacional) / (desvio_padrao_populacional / np.sqrt(n))\n",
    "z"
   ]
  },
  {
   "cell_type": "markdown",
   "id": "527dcce4-b01c-48ee-b861-b129137d4780",
   "metadata": {},
   "source": [
    "---"
   ]
  },
  {
   "cell_type": "markdown",
   "id": "a5ce2d6d-188f-49f8-a83a-ee081eb5e770",
   "metadata": {},
   "source": [
    "3) **Qual a conclusão do teste?**"
   ]
  },
  {
   "cell_type": "code",
   "execution_count": 11,
   "id": "db049235-09c3-41a1-ac53-28c2a6080bd3",
   "metadata": {},
   "outputs": [],
   "source": [
    "from scipy.stats import norm "
   ]
  },
  {
   "cell_type": "code",
   "execution_count": 12,
   "id": "f5801a83-93ec-4b6e-9eb3-8b4948162d2e",
   "metadata": {},
   "outputs": [
    {
     "data": {
      "text/plain": [
       "1.959963984540054"
      ]
     },
     "execution_count": 12,
     "metadata": {},
     "output_type": "execute_result"
    }
   ],
   "source": [
    "z_alpha_2 = norm.ppf(probabilidade)\n",
    "z_alpha_2"
   ]
  },
  {
   "cell_type": "code",
   "execution_count": 13,
   "id": "ede1d47e-e2e8-41a2-8088-4fed58d53631",
   "metadata": {},
   "outputs": [
    {
     "name": "stdout",
     "output_type": "stream",
     "text": [
      "Rejeitar H0\n"
     ]
    }
   ],
   "source": [
    "if(z <= -z_alpha_2 or z >= z_alpha_2):\n",
    "    print('Rejeitar H0')\n",
    "else:\n",
    "    print('Aceitar H0')"
   ]
  },
  {
   "cell_type": "markdown",
   "id": "c55bfb87-8dbf-40f6-950a-dfd5dcb4a2f3",
   "metadata": {},
   "source": [
    "---\n",
    "---"
   ]
  },
  {
   "cell_type": "markdown",
   "id": "62fbb0d0-cd41-4abf-8973-b160f891d894",
   "metadata": {},
   "source": [
    "## Exercício 2"
   ]
  },
  {
   "cell_type": "markdown",
   "id": "b8cf8120-f0ef-4ced-96ef-533e9cb920b5",
   "metadata": {},
   "source": [
    "Considere novamente os dados do exercício anterior. Um fabricante de farinha afirma que a quantidade média de farinha nas embalagens de seu principal produto é de 500 g. Um teste de pesagem em 30 embalagens amostradas ao acaso mostrou um peso médio igual à 485 g. Estudos anteriores afirmam que a distribuição dos pesos segue uma normal e que o desvio padrão populacional é igual a 20 g. Com um nível de significância igual a 5%, teste a hipótese nula de que a média do processo é igual a 500 g e marque a alternativa que indica **o p-valor do teste aplicado (considere somente 5 casas decimais).**"
   ]
  },
  {
   "cell_type": "markdown",
   "id": "456e3493-cc12-4905-ac14-7b4a30e826a5",
   "metadata": {},
   "source": [
    "#### Primeira forma de calcular p-valor"
   ]
  },
  {
   "cell_type": "code",
   "execution_count": 18,
   "id": "c45150bc-3d44-4cd8-a7c6-803a0fed08ad",
   "metadata": {},
   "outputs": [
    {
     "data": {
      "text/plain": [
       "3.992397476904053e-05"
      ]
     },
     "execution_count": 18,
     "metadata": {},
     "output_type": "execute_result"
    }
   ],
   "source": [
    "p_valor = 2 * (1 - norm.cdf(abs(z))) \n",
    "p_valor"
   ]
  },
  {
   "cell_type": "markdown",
   "id": "33b0327c-5419-4a1c-a21a-110d2b7fe187",
   "metadata": {},
   "source": [
    "#### Segunda forma de calcular p-valor"
   ]
  },
  {
   "cell_type": "code",
   "execution_count": 19,
   "id": "b26b3d2c-fed4-4137-b743-20359b1c4ffd",
   "metadata": {},
   "outputs": [
    {
     "data": {
      "text/plain": [
       "3.992397476901338e-05"
      ]
     },
     "execution_count": 19,
     "metadata": {},
     "output_type": "execute_result"
    }
   ],
   "source": [
    "p_valor = 2 * norm.sf(abs(z))\n",
    "p_valor"
   ]
  },
  {
   "cell_type": "code",
   "execution_count": 16,
   "id": "782141dc-20ba-4482-895e-8379293a51a6",
   "metadata": {},
   "outputs": [
    {
     "data": {
      "text/plain": [
       "True"
      ]
     },
     "execution_count": 16,
     "metadata": {},
     "output_type": "execute_result"
    }
   ],
   "source": [
    "p_valor <= significancia"
   ]
  }
 ],
 "metadata": {
  "kernelspec": {
   "display_name": "Python 3 (ipykernel)",
   "language": "python",
   "name": "python3"
  },
  "language_info": {
   "codemirror_mode": {
    "name": "ipython",
    "version": 3
   },
   "file_extension": ".py",
   "mimetype": "text/x-python",
   "name": "python",
   "nbconvert_exporter": "python",
   "pygments_lexer": "ipython3",
   "version": "3.8.10"
  }
 },
 "nbformat": 4,
 "nbformat_minor": 5
}
