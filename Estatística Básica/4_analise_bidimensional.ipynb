{
 "cells": [
  {
   "cell_type": "code",
   "execution_count": 1,
   "metadata": {},
   "outputs": [],
   "source": [
    "import pandas as pd\n",
    "import numpy as np\n",
    "import seaborn as sns\n",
    "import matplotlib.pyplot as plt"
   ]
  },
  {
   "cell_type": "code",
   "execution_count": 2,
   "metadata": {},
   "outputs": [],
   "source": [
    "import os\n",
    "import sys\n",
    "\n",
    "path = os.getcwd()\n",
    "os.chdir(path[:path.find(\"Estatística Básica\")])\n",
    "df = pd.read_csv(os.path.abspath(\"data/tabela2_1.csv\"), sep=\";\", index_col=\"N\")\n",
    "df[\"Salario (x Sal Min)\"] = df[\"Salario (x Sal Min)\"].str.replace(\",\", \".\").astype(float)\n"
   ]
  },
  {
   "cell_type": "code",
   "execution_count": 3,
   "metadata": {},
   "outputs": [
    {
     "data": {
      "text/html": [
       "<div>\n",
       "<style scoped>\n",
       "    .dataframe tbody tr th:only-of-type {\n",
       "        vertical-align: middle;\n",
       "    }\n",
       "\n",
       "    .dataframe tbody tr th {\n",
       "        vertical-align: top;\n",
       "    }\n",
       "\n",
       "    .dataframe thead th {\n",
       "        text-align: right;\n",
       "    }\n",
       "</style>\n",
       "<table border=\"1\" class=\"dataframe\">\n",
       "  <thead>\n",
       "    <tr style=\"text-align: right;\">\n",
       "      <th></th>\n",
       "      <th>Estado Civil</th>\n",
       "      <th>Grau de Instrução</th>\n",
       "      <th>N de Filhos</th>\n",
       "      <th>Salario (x Sal Min)</th>\n",
       "      <th>Anos</th>\n",
       "      <th>Meses</th>\n",
       "      <th>Região de Procedência</th>\n",
       "    </tr>\n",
       "    <tr>\n",
       "      <th>N</th>\n",
       "      <th></th>\n",
       "      <th></th>\n",
       "      <th></th>\n",
       "      <th></th>\n",
       "      <th></th>\n",
       "      <th></th>\n",
       "      <th></th>\n",
       "    </tr>\n",
       "  </thead>\n",
       "  <tbody>\n",
       "    <tr>\n",
       "      <th>1</th>\n",
       "      <td>solteiro</td>\n",
       "      <td>ensino fundamental</td>\n",
       "      <td>NaN</td>\n",
       "      <td>4.00</td>\n",
       "      <td>26</td>\n",
       "      <td>3</td>\n",
       "      <td>interior</td>\n",
       "    </tr>\n",
       "    <tr>\n",
       "      <th>2</th>\n",
       "      <td>casado</td>\n",
       "      <td>ensino fundamental</td>\n",
       "      <td>1.0</td>\n",
       "      <td>4.56</td>\n",
       "      <td>32</td>\n",
       "      <td>10</td>\n",
       "      <td>capital</td>\n",
       "    </tr>\n",
       "    <tr>\n",
       "      <th>3</th>\n",
       "      <td>casado</td>\n",
       "      <td>ensino fundamental</td>\n",
       "      <td>2.0</td>\n",
       "      <td>5.25</td>\n",
       "      <td>36</td>\n",
       "      <td>5</td>\n",
       "      <td>capital</td>\n",
       "    </tr>\n",
       "    <tr>\n",
       "      <th>4</th>\n",
       "      <td>solteiro</td>\n",
       "      <td>ensino médio</td>\n",
       "      <td>NaN</td>\n",
       "      <td>5.73</td>\n",
       "      <td>20</td>\n",
       "      <td>10</td>\n",
       "      <td>outra</td>\n",
       "    </tr>\n",
       "    <tr>\n",
       "      <th>5</th>\n",
       "      <td>solteiro</td>\n",
       "      <td>ensino fundamental</td>\n",
       "      <td>NaN</td>\n",
       "      <td>6.26</td>\n",
       "      <td>40</td>\n",
       "      <td>7</td>\n",
       "      <td>outra</td>\n",
       "    </tr>\n",
       "  </tbody>\n",
       "</table>\n",
       "</div>"
      ],
      "text/plain": [
       "  Estado Civil   Grau de Instrução  N de Filhos  Salario (x Sal Min)  Anos  \\\n",
       "N                                                                            \n",
       "1     solteiro  ensino fundamental          NaN                 4.00    26   \n",
       "2       casado  ensino fundamental          1.0                 4.56    32   \n",
       "3       casado  ensino fundamental          2.0                 5.25    36   \n",
       "4     solteiro        ensino médio          NaN                 5.73    20   \n",
       "5     solteiro  ensino fundamental          NaN                 6.26    40   \n",
       "\n",
       "   Meses Região de Procedência  \n",
       "N                               \n",
       "1      3              interior  \n",
       "2     10               capital  \n",
       "3      5               capital  \n",
       "4     10                 outra  \n",
       "5      7                 outra  "
      ]
     },
     "execution_count": 3,
     "metadata": {},
     "output_type": "execute_result"
    }
   ],
   "source": [
    "df.head()"
   ]
  },
  {
   "cell_type": "markdown",
   "metadata": {},
   "source": [
    "# Análise Bidimensional"
   ]
  },
  {
   "cell_type": "markdown",
   "metadata": {},
   "source": [
    "## Variáveis Qualitativas"
   ]
  },
  {
   "cell_type": "code",
   "execution_count": 4,
   "metadata": {},
   "outputs": [
    {
     "data": {
      "text/html": [
       "<div>\n",
       "<style scoped>\n",
       "    .dataframe tbody tr th:only-of-type {\n",
       "        vertical-align: middle;\n",
       "    }\n",
       "\n",
       "    .dataframe tbody tr th {\n",
       "        vertical-align: top;\n",
       "    }\n",
       "\n",
       "    .dataframe thead th {\n",
       "        text-align: right;\n",
       "    }\n",
       "</style>\n",
       "<table border=\"1\" class=\"dataframe\">\n",
       "  <thead>\n",
       "    <tr style=\"text-align: right;\">\n",
       "      <th>Grau de Instrução</th>\n",
       "      <th>ensino fundamental</th>\n",
       "      <th>ensino médio</th>\n",
       "      <th>superior</th>\n",
       "      <th>Total</th>\n",
       "    </tr>\n",
       "    <tr>\n",
       "      <th>Região de Procedência</th>\n",
       "      <th></th>\n",
       "      <th></th>\n",
       "      <th></th>\n",
       "      <th></th>\n",
       "    </tr>\n",
       "  </thead>\n",
       "  <tbody>\n",
       "    <tr>\n",
       "      <th>capital</th>\n",
       "      <td>11</td>\n",
       "      <td>14</td>\n",
       "      <td>6</td>\n",
       "      <td>31</td>\n",
       "    </tr>\n",
       "    <tr>\n",
       "      <th>interior</th>\n",
       "      <td>8</td>\n",
       "      <td>19</td>\n",
       "      <td>6</td>\n",
       "      <td>33</td>\n",
       "    </tr>\n",
       "    <tr>\n",
       "      <th>outra</th>\n",
       "      <td>14</td>\n",
       "      <td>17</td>\n",
       "      <td>6</td>\n",
       "      <td>36</td>\n",
       "    </tr>\n",
       "    <tr>\n",
       "      <th>Total</th>\n",
       "      <td>33</td>\n",
       "      <td>50</td>\n",
       "      <td>17</td>\n",
       "      <td>100</td>\n",
       "    </tr>\n",
       "  </tbody>\n",
       "</table>\n",
       "</div>"
      ],
      "text/plain": [
       "Grau de Instrução      ensino fundamental  ensino médio  superior  Total\n",
       "Região de Procedência                                                   \n",
       "capital                                11            14         6     31\n",
       "interior                                8            19         6     33\n",
       "outra                                  14            17         6     36\n",
       "Total                                  33            50        17    100"
      ]
     },
     "execution_count": 4,
     "metadata": {},
     "output_type": "execute_result"
    }
   ],
   "source": [
    "df_pivot = pd.pivot_table(\n",
    "    df[['Região de Procedência', 'Grau de Instrução']], \n",
    "    index=\"Região de Procedência\",\n",
    "    columns=\"Grau de Instrução\", \n",
    "    aggfunc=lambda x: int(round(len(x) / len(df) * 100, 0)),\n",
    "    margins=True,\n",
    "    margins_name=\"Total\",\n",
    ")\n",
    "df_pivot"
   ]
  },
  {
   "cell_type": "code",
   "execution_count": 5,
   "metadata": {},
   "outputs": [],
   "source": [
    "joint_df = (pd.crosstab(index=df[\"Região de Procedência\"],\n",
    "                       columns=df[\"Grau de Instrução\"],\n",
    "                       normalize=\"columns\") * 100).round(0).astype(int)\n",
    "joint_df.loc[\"Total\"] = joint_df.sum()\n"
   ]
  },
  {
   "cell_type": "code",
   "execution_count": 6,
   "metadata": {},
   "outputs": [
    {
     "data": {
      "text/plain": [
       "<Axes: xlabel='Grau de Instrução'>"
      ]
     },
     "execution_count": 6,
     "metadata": {},
     "output_type": "execute_result"
    },
    {
     "data": {
      "image/png": "[encoded data removed]",
      "text/plain": [
       "<Figure size 640x480 with 1 Axes>"
      ]
     },
     "metadata": {},
     "output_type": "display_data"
    }
   ],
   "source": [
    "sns.set()\n",
    "joint_df.iloc[:3].T.plot(kind='bar', stacked=True)\n"
   ]
  },
  {
   "cell_type": "code",
   "execution_count": 141,
   "metadata": {},
   "outputs": [],
   "source": [
    "states = [\"São Paulo\", \"Paraná\", \"Rio Grande do Sul\"]\n",
    "customers = [214, 51, 111]\n",
    "products = [237, 102, 304]\n",
    "school = [78, 126, 139]\n",
    "others = [119, 22, 48]\n",
    "\n",
    "df = pd.DataFrame(\n",
    "    {\n",
    "        \"Estados\": states,\n",
    "        \"Consumidor\": customers,\n",
    "        \"Produtor\": products,\n",
    "        \"Escola\": school,\n",
    "        \"Outros\": others\n",
    "    }\n",
    ")\n",
    "df = df.set_index(\"Estados\")\n",
    "df_with_total = df.copy()\n",
    "df_with_total.loc[\"Total\"] = df_with_total.sum()\n",
    "df_with_total[\"Total\"] = df_with_total.sum(axis=1)"
   ]
  },
  {
   "cell_type": "code",
   "execution_count": 169,
   "metadata": {},
   "outputs": [
    {
     "data": {
      "text/html": [
       "<div>\n",
       "<style scoped>\n",
       "    .dataframe tbody tr th:only-of-type {\n",
       "        vertical-align: middle;\n",
       "    }\n",
       "\n",
       "    .dataframe tbody tr th {\n",
       "        vertical-align: top;\n",
       "    }\n",
       "\n",
       "    .dataframe thead th {\n",
       "        text-align: right;\n",
       "    }\n",
       "</style>\n",
       "<table border=\"1\" class=\"dataframe\">\n",
       "  <thead>\n",
       "    <tr style=\"text-align: right;\">\n",
       "      <th></th>\n",
       "      <th>Consumidor</th>\n",
       "      <th>Produtor</th>\n",
       "      <th>Escola</th>\n",
       "      <th>Outros</th>\n",
       "    </tr>\n",
       "    <tr>\n",
       "      <th>Estados</th>\n",
       "      <th></th>\n",
       "      <th></th>\n",
       "      <th></th>\n",
       "      <th></th>\n",
       "    </tr>\n",
       "  </thead>\n",
       "  <tbody>\n",
       "    <tr>\n",
       "      <th>São Paulo</th>\n",
       "      <td>214</td>\n",
       "      <td>237</td>\n",
       "      <td>78</td>\n",
       "      <td>119</td>\n",
       "    </tr>\n",
       "    <tr>\n",
       "      <th>Paraná</th>\n",
       "      <td>51</td>\n",
       "      <td>102</td>\n",
       "      <td>126</td>\n",
       "      <td>22</td>\n",
       "    </tr>\n",
       "    <tr>\n",
       "      <th>Rio Grande do Sul</th>\n",
       "      <td>111</td>\n",
       "      <td>304</td>\n",
       "      <td>139</td>\n",
       "      <td>48</td>\n",
       "    </tr>\n",
       "  </tbody>\n",
       "</table>\n",
       "</div>"
      ],
      "text/plain": [
       "                   Consumidor  Produtor  Escola  Outros\n",
       "Estados                                                \n",
       "São Paulo                 214       237      78     119\n",
       "Paraná                     51       102     126      22\n",
       "Rio Grande do Sul         111       304     139      48"
      ]
     },
     "execution_count": 169,
     "metadata": {},
     "output_type": "execute_result"
    }
   ],
   "source": [
    "df"
   ]
  },
  {
   "cell_type": "code",
   "execution_count": 197,
   "metadata": {},
   "outputs": [
    {
     "data": {
      "text/plain": [
       "157.0909090909091"
      ]
     },
     "execution_count": 197,
     "metadata": {},
     "output_type": "execute_result"
    }
   ],
   "source": [
    "(df_with_total.loc[\"Total\", \"Consumidor\"] / df_with_total.loc[\"Total\", \"Total\"]) * df_with_total.loc[\"São Paulo\", \"Total\"]"
   ]
  },
  {
   "cell_type": "code",
   "execution_count": 170,
   "metadata": {},
   "outputs": [
    {
     "data": {
      "text/html": [
       "<div>\n",
       "<style scoped>\n",
       "    .dataframe tbody tr th:only-of-type {\n",
       "        vertical-align: middle;\n",
       "    }\n",
       "\n",
       "    .dataframe tbody tr th {\n",
       "        vertical-align: top;\n",
       "    }\n",
       "\n",
       "    .dataframe thead th {\n",
       "        text-align: right;\n",
       "    }\n",
       "</style>\n",
       "<table border=\"1\" class=\"dataframe\">\n",
       "  <thead>\n",
       "    <tr style=\"text-align: right;\">\n",
       "      <th></th>\n",
       "      <th>Consumidor</th>\n",
       "      <th>Produtor</th>\n",
       "      <th>Escola</th>\n",
       "      <th>Outros</th>\n",
       "      <th>Total</th>\n",
       "    </tr>\n",
       "    <tr>\n",
       "      <th>Estados</th>\n",
       "      <th></th>\n",
       "      <th></th>\n",
       "      <th></th>\n",
       "      <th></th>\n",
       "      <th></th>\n",
       "    </tr>\n",
       "  </thead>\n",
       "  <tbody>\n",
       "    <tr>\n",
       "      <th>São Paulo</th>\n",
       "      <td>33.02</td>\n",
       "      <td>36.57</td>\n",
       "      <td>12.04</td>\n",
       "      <td>18.36</td>\n",
       "      <td>100.0</td>\n",
       "    </tr>\n",
       "    <tr>\n",
       "      <th>Paraná</th>\n",
       "      <td>16.94</td>\n",
       "      <td>33.89</td>\n",
       "      <td>41.86</td>\n",
       "      <td>7.31</td>\n",
       "      <td>100.0</td>\n",
       "    </tr>\n",
       "    <tr>\n",
       "      <th>Rio Grande do Sul</th>\n",
       "      <td>18.44</td>\n",
       "      <td>50.50</td>\n",
       "      <td>23.09</td>\n",
       "      <td>7.97</td>\n",
       "      <td>100.0</td>\n",
       "    </tr>\n",
       "    <tr>\n",
       "      <th>Total</th>\n",
       "      <td>24.24</td>\n",
       "      <td>41.46</td>\n",
       "      <td>22.11</td>\n",
       "      <td>12.19</td>\n",
       "      <td>100.0</td>\n",
       "    </tr>\n",
       "  </tbody>\n",
       "</table>\n",
       "</div>"
      ],
      "text/plain": [
       "                   Consumidor  Produtor  Escola  Outros  Total\n",
       "Estados                                                       \n",
       "São Paulo               33.02     36.57   12.04   18.36  100.0\n",
       "Paraná                  16.94     33.89   41.86    7.31  100.0\n",
       "Rio Grande do Sul       18.44     50.50   23.09    7.97  100.0\n",
       "Total                   24.24     41.46   22.11   12.19  100.0"
      ]
     },
     "execution_count": 170,
     "metadata": {},
     "output_type": "execute_result"
    }
   ],
   "source": [
    "df_percents = (df_with_total.div(df_with_total[\"Total\"], axis=0) * 100)\n",
    "df_percents = df_percents.round(2)\n",
    "df_percents"
   ]
  },
  {
   "cell_type": "code",
   "execution_count": 171,
   "metadata": {},
   "outputs": [
    {
     "data": {
      "text/html": [
       "<div>\n",
       "<style scoped>\n",
       "    .dataframe tbody tr th:only-of-type {\n",
       "        vertical-align: middle;\n",
       "    }\n",
       "\n",
       "    .dataframe tbody tr th {\n",
       "        vertical-align: top;\n",
       "    }\n",
       "\n",
       "    .dataframe thead th {\n",
       "        text-align: right;\n",
       "    }\n",
       "</style>\n",
       "<table border=\"1\" class=\"dataframe\">\n",
       "  <thead>\n",
       "    <tr style=\"text-align: right;\">\n",
       "      <th></th>\n",
       "      <th>Consumidor</th>\n",
       "      <th>Produtor</th>\n",
       "      <th>Escola</th>\n",
       "      <th>Outros</th>\n",
       "    </tr>\n",
       "    <tr>\n",
       "      <th>Estados</th>\n",
       "      <th></th>\n",
       "      <th></th>\n",
       "      <th></th>\n",
       "      <th></th>\n",
       "    </tr>\n",
       "  </thead>\n",
       "  <tbody>\n",
       "    <tr>\n",
       "      <th>São Paulo</th>\n",
       "      <td>157</td>\n",
       "      <td>269</td>\n",
       "      <td>143</td>\n",
       "      <td>79</td>\n",
       "    </tr>\n",
       "    <tr>\n",
       "      <th>Paraná</th>\n",
       "      <td>73</td>\n",
       "      <td>125</td>\n",
       "      <td>67</td>\n",
       "      <td>37</td>\n",
       "    </tr>\n",
       "    <tr>\n",
       "      <th>Rio Grande do Sul</th>\n",
       "      <td>146</td>\n",
       "      <td>250</td>\n",
       "      <td>133</td>\n",
       "      <td>73</td>\n",
       "    </tr>\n",
       "  </tbody>\n",
       "</table>\n",
       "</div>"
      ],
      "text/plain": [
       "                   Consumidor  Produtor  Escola  Outros\n",
       "Estados                                                \n",
       "São Paulo                 157       269     143      79\n",
       "Paraná                     73       125      67      37\n",
       "Rio Grande do Sul         146       250     133      73"
      ]
     },
     "execution_count": 171,
     "metadata": {},
     "output_type": "execute_result"
    }
   ],
   "source": [
    "df_espected = pd.DataFrame(\n",
    "    {\n",
    "        \"Estados\": states,\n",
    "        \"Consumidor\": list(((df_percents.loc[\"Total\", \"Consumidor\"] / 100) * df_with_total.loc[:, \"Total\"]).values)[:len(states)],\n",
    "        \"Produtor\": list(((df_percents.loc[\"Total\", \"Produtor\"] / 100) * df_with_total.loc[:, \"Total\"]).values)[:len(states)],\n",
    "        \"Escola\": list(((df_percents.loc[\"Total\", \"Escola\"] / 100) * df_with_total.loc[:, \"Total\"]).values)[:len(states)],\n",
    "        \"Outros\": list(((df_percents.loc[\"Total\", \"Outros\"] / 100) * df_with_total.loc[:, \"Total\"]).values)[:len(states)],\n",
    "    }\n",
    ")\n",
    "df_espected = df_espected.set_index(\"Estados\")\n",
    "df_espected = df_espected.round(0).astype(int)\n",
    "df_espected"
   ]
  },
  {
   "cell_type": "code",
   "execution_count": 172,
   "metadata": {},
   "outputs": [
    {
     "data": {
      "text/html": [
       "<div>\n",
       "<style scoped>\n",
       "    .dataframe tbody tr th:only-of-type {\n",
       "        vertical-align: middle;\n",
       "    }\n",
       "\n",
       "    .dataframe tbody tr th {\n",
       "        vertical-align: top;\n",
       "    }\n",
       "\n",
       "    .dataframe thead th {\n",
       "        text-align: right;\n",
       "    }\n",
       "</style>\n",
       "<table border=\"1\" class=\"dataframe\">\n",
       "  <thead>\n",
       "    <tr style=\"text-align: right;\">\n",
       "      <th></th>\n",
       "      <th>Consumidor</th>\n",
       "      <th>Produtor</th>\n",
       "      <th>Escola</th>\n",
       "      <th>Outros</th>\n",
       "    </tr>\n",
       "    <tr>\n",
       "      <th>Estados</th>\n",
       "      <th></th>\n",
       "      <th></th>\n",
       "      <th></th>\n",
       "      <th></th>\n",
       "    </tr>\n",
       "  </thead>\n",
       "  <tbody>\n",
       "    <tr>\n",
       "      <th>São Paulo</th>\n",
       "      <td>57</td>\n",
       "      <td>-32</td>\n",
       "      <td>-65</td>\n",
       "      <td>40</td>\n",
       "    </tr>\n",
       "    <tr>\n",
       "      <th>Paraná</th>\n",
       "      <td>-22</td>\n",
       "      <td>-23</td>\n",
       "      <td>59</td>\n",
       "      <td>-15</td>\n",
       "    </tr>\n",
       "    <tr>\n",
       "      <th>Rio Grande do Sul</th>\n",
       "      <td>-35</td>\n",
       "      <td>54</td>\n",
       "      <td>6</td>\n",
       "      <td>-25</td>\n",
       "    </tr>\n",
       "  </tbody>\n",
       "</table>\n",
       "</div>"
      ],
      "text/plain": [
       "                   Consumidor  Produtor  Escola  Outros\n",
       "Estados                                                \n",
       "São Paulo                  57       -32     -65      40\n",
       "Paraná                    -22       -23      59     -15\n",
       "Rio Grande do Sul         -35        54       6     -25"
      ]
     },
     "execution_count": 172,
     "metadata": {},
     "output_type": "execute_result"
    }
   ],
   "source": [
    "df_desv = (df - df_espected).round(0).astype(int)\n",
    "df_desv"
   ]
  },
  {
   "attachments": {},
   "cell_type": "markdown",
   "metadata": {},
   "source": [
    "$$ \\frac{(o_i - e_i)^2}{e_i} $$"
   ]
  },
  {
   "cell_type": "code",
   "execution_count": 173,
   "metadata": {},
   "outputs": [
    {
     "data": {
      "text/plain": [
       "29.545454545454547"
      ]
     },
     "execution_count": 173,
     "metadata": {},
     "output_type": "execute_result"
    }
   ],
   "source": [
    "sao_paulo_escole_qui_quadrado = ((df.loc[\"São Paulo\", \"Escola\"] - df_espected.loc[\"São Paulo\", \"Escola\"]) ** 2) / df_espected.loc[\"São Paulo\", \"Escola\"]\n",
    "sao_paulo_escole_qui_quadrado"
   ]
  },
  {
   "cell_type": "code",
   "execution_count": 174,
   "metadata": {},
   "outputs": [
    {
     "data": {
      "text/plain": [
       "172.0847515023836"
      ]
     },
     "execution_count": 174,
     "metadata": {},
     "output_type": "execute_result"
    }
   ],
   "source": [
    "qui_quadrado = ((df - df_espected) ** 2 / df_espected).sum().sum()\n",
    "qui_quadrado"
   ]
  },
  {
   "attachments": {},
   "cell_type": "markdown",
   "metadata": {},
   "source": [
    "$$ \\chi^2 = \\sum_{i=1}^r \\sum_{j=1}^s \\frac{(n_{ij}-n_{ij}^*)^2}{n_{ij}^*} $$"
   ]
  },
  {
   "attachments": {},
   "cell_type": "markdown",
   "metadata": {},
   "source": [
    "Coeficiente de Contingência"
   ]
  },
  {
   "attachments": {},
   "cell_type": "markdown",
   "metadata": {},
   "source": [
    "$$ C = \\sqrt{\\frac{\\chi^2}{\\chi^2 + n}} $$"
   ]
  },
  {
   "cell_type": "code",
   "execution_count": 181,
   "metadata": {},
   "outputs": [
    {
     "data": {
      "text/plain": [
       "172.08475150238357"
      ]
     },
     "execution_count": 181,
     "metadata": {},
     "output_type": "execute_result"
    }
   ],
   "source": [
    "sqrt(qui_quadrado) ** 2"
   ]
  },
  {
   "cell_type": "code",
   "execution_count": 186,
   "metadata": {},
   "outputs": [
    {
     "data": {
      "text/plain": [
       "0.9885765858828574"
      ]
     },
     "execution_count": 186,
     "metadata": {},
     "output_type": "execute_result"
    }
   ],
   "source": [
    "from math import sqrt\n",
    "c = sqrt(qui_quadrado / (qui_quadrado + 4))\n",
    "c"
   ]
  },
  {
   "attachments": {},
   "cell_type": "markdown",
   "metadata": {},
   "source": [
    "$$ T = \\sqrt{\\frac{\\chi^2}{n\\sqrt{(r-1)(s-1)}}} $$"
   ]
  },
  {
   "cell_type": "code",
   "execution_count": 124,
   "metadata": {},
   "outputs": [
    {
     "data": {
      "text/plain": [
       "9.783421567617689"
      ]
     },
     "execution_count": 124,
     "metadata": {},
     "output_type": "execute_result"
    }
   ],
   "source": [
    "((450 - (665 * 0.584)) ** 2) / (665 * 0.584)"
   ]
  },
  {
   "cell_type": "code",
   "execution_count": 195,
   "metadata": {},
   "outputs": [
    {
     "data": {
      "text/plain": [
       "0.54"
      ]
     },
     "execution_count": 195,
     "metadata": {},
     "output_type": "execute_result"
    }
   ],
   "source": [
    "27 / 50"
   ]
  },
  {
   "cell_type": "code",
   "execution_count": 198,
   "metadata": {},
   "outputs": [
    {
     "data": {
      "text/plain": [
       "19.98"
      ]
     },
     "execution_count": 198,
     "metadata": {},
     "output_type": "execute_result"
    }
   ],
   "source": [
    "37 * 0.54"
   ]
  },
  {
   "cell_type": "code",
   "execution_count": 200,
   "metadata": {},
   "outputs": [
    {
     "data": {
      "text/plain": [
       "4.02"
      ]
     },
     "execution_count": 200,
     "metadata": {},
     "output_type": "execute_result"
    }
   ],
   "source": [
    "24 - 19.98"
   ]
  },
  {
   "cell_type": "code",
   "execution_count": 201,
   "metadata": {},
   "outputs": [
    {
     "data": {
      "text/plain": [
       "16.160399999999996"
      ]
     },
     "execution_count": 201,
     "metadata": {},
     "output_type": "execute_result"
    }
   ],
   "source": [
    "(24 - 19.98)**2"
   ]
  },
  {
   "cell_type": "code",
   "execution_count": 203,
   "metadata": {},
   "outputs": [
    {
     "data": {
      "text/plain": [
       "0.8088288288288286"
      ]
     },
     "execution_count": 203,
     "metadata": {},
     "output_type": "execute_result"
    }
   ],
   "source": [
    "((24 - 19.98)**2) / (37 * 0.54)"
   ]
  },
  {
   "cell_type": "code",
   "execution_count": 204,
   "metadata": {},
   "outputs": [
    {
     "data": {
      "text/plain": [
       "6.7620000000000005"
      ]
     },
     "execution_count": 204,
     "metadata": {},
     "output_type": "execute_result"
    }
   ],
   "source": [
    "0.809 + 2.302 + 0.949 + 2.702"
   ]
  },
  {
   "cell_type": "code",
   "execution_count": 210,
   "metadata": {},
   "outputs": [
    {
     "data": {
      "text/plain": [
       "0.9999322137245171"
      ]
     },
     "execution_count": 210,
     "metadata": {},
     "output_type": "execute_result"
    }
   ],
   "source": [
    "sqrt(((171.76)**2) / ((171.76**2) + 4))"
   ]
  },
  {
   "cell_type": "code",
   "execution_count": 209,
   "metadata": {},
   "outputs": [
    {
     "data": {
      "text/plain": [
       "1.7320508075688772"
      ]
     },
     "execution_count": 209,
     "metadata": {},
     "output_type": "execute_result"
    }
   ],
   "source": [
    "sqrt(3)"
   ]
  },
  {
   "cell_type": "code",
   "execution_count": null,
   "metadata": {},
   "outputs": [],
   "source": []
  }
 ],
 "metadata": {
  "kernelspec": {
   "display_name": "ds",
   "language": "python",
   "name": "python3"
  },
  "language_info": {
   "codemirror_mode": {
    "name": "ipython",
    "version": 3
   },
   "file_extension": ".py",
   "mimetype": "text/x-python",
   "name": "python",
   "nbconvert_exporter": "python",
   "pygments_lexer": "ipython3",
   "version": "3.11.3"
  },
  "orig_nbformat": 4
 },
 "nbformat": 4,
 "nbformat_minor": 2
}
