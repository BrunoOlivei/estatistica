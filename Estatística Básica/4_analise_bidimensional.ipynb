{
 "cells": [
  {
   "cell_type": "code",
   "execution_count": 1,
   "metadata": {},
   "outputs": [],
   "source": [
    "import os\n",
    "import sys\n",
    "import numpy as np\n",
    "import pandas as pd\n",
    "from math import sqrt\n",
    "import seaborn as sns\n",
    "import matplotlib.pyplot as plt\n",
    "\n",
    "path = os.getcwd()\n",
    "os.chdir(path[:path.find(\"Estatística Básica\")])"
   ]
  },
  {
   "cell_type": "code",
   "execution_count": 2,
   "metadata": {},
   "outputs": [],
   "source": [
    "df = pd.read_csv(os.path.abspath(\"data/tabela2_1.csv\"), sep=\";\", index_col=\"N\")\n",
    "df[\"Salario (x Sal Min)\"] = df[\"Salario (x Sal Min)\"].str.replace(\",\", \".\").astype(float)\n"
   ]
  },
  {
   "cell_type": "code",
   "execution_count": 3,
   "metadata": {},
   "outputs": [
    {
     "data": {
      "text/html": [
       "<div>\n",
       "<style scoped>\n",
       "    .dataframe tbody tr th:only-of-type {\n",
       "        vertical-align: middle;\n",
       "    }\n",
       "\n",
       "    .dataframe tbody tr th {\n",
       "        vertical-align: top;\n",
       "    }\n",
       "\n",
       "    .dataframe thead th {\n",
       "        text-align: right;\n",
       "    }\n",
       "</style>\n",
       "<table border=\"1\" class=\"dataframe\">\n",
       "  <thead>\n",
       "    <tr style=\"text-align: right;\">\n",
       "      <th></th>\n",
       "      <th>Estado Civil</th>\n",
       "      <th>Grau de Instrução</th>\n",
       "      <th>N de Filhos</th>\n",
       "      <th>Salario (x Sal Min)</th>\n",
       "      <th>Anos</th>\n",
       "      <th>Meses</th>\n",
       "      <th>Região de Procedência</th>\n",
       "    </tr>\n",
       "    <tr>\n",
       "      <th>N</th>\n",
       "      <th></th>\n",
       "      <th></th>\n",
       "      <th></th>\n",
       "      <th></th>\n",
       "      <th></th>\n",
       "      <th></th>\n",
       "      <th></th>\n",
       "    </tr>\n",
       "  </thead>\n",
       "  <tbody>\n",
       "    <tr>\n",
       "      <th>1</th>\n",
       "      <td>solteiro</td>\n",
       "      <td>ensino fundamental</td>\n",
       "      <td>NaN</td>\n",
       "      <td>4.00</td>\n",
       "      <td>26</td>\n",
       "      <td>3</td>\n",
       "      <td>interior</td>\n",
       "    </tr>\n",
       "    <tr>\n",
       "      <th>2</th>\n",
       "      <td>casado</td>\n",
       "      <td>ensino fundamental</td>\n",
       "      <td>1.0</td>\n",
       "      <td>4.56</td>\n",
       "      <td>32</td>\n",
       "      <td>10</td>\n",
       "      <td>capital</td>\n",
       "    </tr>\n",
       "    <tr>\n",
       "      <th>3</th>\n",
       "      <td>casado</td>\n",
       "      <td>ensino fundamental</td>\n",
       "      <td>2.0</td>\n",
       "      <td>5.25</td>\n",
       "      <td>36</td>\n",
       "      <td>5</td>\n",
       "      <td>capital</td>\n",
       "    </tr>\n",
       "    <tr>\n",
       "      <th>4</th>\n",
       "      <td>solteiro</td>\n",
       "      <td>ensino médio</td>\n",
       "      <td>NaN</td>\n",
       "      <td>5.73</td>\n",
       "      <td>20</td>\n",
       "      <td>10</td>\n",
       "      <td>outra</td>\n",
       "    </tr>\n",
       "    <tr>\n",
       "      <th>5</th>\n",
       "      <td>solteiro</td>\n",
       "      <td>ensino fundamental</td>\n",
       "      <td>NaN</td>\n",
       "      <td>6.26</td>\n",
       "      <td>40</td>\n",
       "      <td>7</td>\n",
       "      <td>outra</td>\n",
       "    </tr>\n",
       "  </tbody>\n",
       "</table>\n",
       "</div>"
      ],
      "text/plain": [
       "  Estado Civil   Grau de Instrução  N de Filhos  Salario (x Sal Min)  Anos  \\\n",
       "N                                                                            \n",
       "1     solteiro  ensino fundamental          NaN                 4.00    26   \n",
       "2       casado  ensino fundamental          1.0                 4.56    32   \n",
       "3       casado  ensino fundamental          2.0                 5.25    36   \n",
       "4     solteiro        ensino médio          NaN                 5.73    20   \n",
       "5     solteiro  ensino fundamental          NaN                 6.26    40   \n",
       "\n",
       "   Meses Região de Procedência  \n",
       "N                               \n",
       "1      3              interior  \n",
       "2     10               capital  \n",
       "3      5               capital  \n",
       "4     10                 outra  \n",
       "5      7                 outra  "
      ]
     },
     "execution_count": 3,
     "metadata": {},
     "output_type": "execute_result"
    }
   ],
   "source": [
    "df.head()"
   ]
  },
  {
   "cell_type": "markdown",
   "metadata": {},
   "source": [
    "# Análise Bidimensional"
   ]
  },
  {
   "cell_type": "markdown",
   "metadata": {},
   "source": [
    "## Variáveis Qualitativas"
   ]
  },
  {
   "cell_type": "code",
   "execution_count": 4,
   "metadata": {},
   "outputs": [
    {
     "data": {
      "text/html": [
       "<div>\n",
       "<style scoped>\n",
       "    .dataframe tbody tr th:only-of-type {\n",
       "        vertical-align: middle;\n",
       "    }\n",
       "\n",
       "    .dataframe tbody tr th {\n",
       "        vertical-align: top;\n",
       "    }\n",
       "\n",
       "    .dataframe thead th {\n",
       "        text-align: right;\n",
       "    }\n",
       "</style>\n",
       "<table border=\"1\" class=\"dataframe\">\n",
       "  <thead>\n",
       "    <tr style=\"text-align: right;\">\n",
       "      <th>Grau de Instrução</th>\n",
       "      <th>ensino fundamental</th>\n",
       "      <th>ensino médio</th>\n",
       "      <th>superior</th>\n",
       "      <th>Total</th>\n",
       "    </tr>\n",
       "    <tr>\n",
       "      <th>Região de Procedência</th>\n",
       "      <th></th>\n",
       "      <th></th>\n",
       "      <th></th>\n",
       "      <th></th>\n",
       "    </tr>\n",
       "  </thead>\n",
       "  <tbody>\n",
       "    <tr>\n",
       "      <th>capital</th>\n",
       "      <td>11</td>\n",
       "      <td>14</td>\n",
       "      <td>6</td>\n",
       "      <td>31</td>\n",
       "    </tr>\n",
       "    <tr>\n",
       "      <th>interior</th>\n",
       "      <td>8</td>\n",
       "      <td>19</td>\n",
       "      <td>6</td>\n",
       "      <td>33</td>\n",
       "    </tr>\n",
       "    <tr>\n",
       "      <th>outra</th>\n",
       "      <td>14</td>\n",
       "      <td>17</td>\n",
       "      <td>6</td>\n",
       "      <td>36</td>\n",
       "    </tr>\n",
       "    <tr>\n",
       "      <th>Total</th>\n",
       "      <td>33</td>\n",
       "      <td>50</td>\n",
       "      <td>17</td>\n",
       "      <td>100</td>\n",
       "    </tr>\n",
       "  </tbody>\n",
       "</table>\n",
       "</div>"
      ],
      "text/plain": [
       "Grau de Instrução      ensino fundamental  ensino médio  superior  Total\n",
       "Região de Procedência                                                   \n",
       "capital                                11            14         6     31\n",
       "interior                                8            19         6     33\n",
       "outra                                  14            17         6     36\n",
       "Total                                  33            50        17    100"
      ]
     },
     "execution_count": 4,
     "metadata": {},
     "output_type": "execute_result"
    }
   ],
   "source": [
    "df_pivot = pd.pivot_table(\n",
    "    df[['Região de Procedência', 'Grau de Instrução']], \n",
    "    index=\"Região de Procedência\",\n",
    "    columns=\"Grau de Instrução\", \n",
    "    aggfunc=lambda x: int(round(len(x) / len(df) * 100, 0)),\n",
    "    margins=True,\n",
    "    margins_name=\"Total\",\n",
    ")\n",
    "df_pivot"
   ]
  },
  {
   "cell_type": "code",
   "execution_count": 5,
   "metadata": {},
   "outputs": [],
   "source": [
    "joint_df = (pd.crosstab(index=df[\"Região de Procedência\"],\n",
    "                       columns=df[\"Grau de Instrução\"],\n",
    "                       normalize=\"columns\") * 100).round(0).astype(int)\n",
    "joint_df.loc[\"Total\"] = joint_df.sum()\n"
   ]
  },
  {
   "cell_type": "code",
   "execution_count": 6,
   "metadata": {},
   "outputs": [
    {
     "data": {
      "text/plain": [
       "<Axes: xlabel='Grau de Instrução'>"
      ]
     },
     "execution_count": 6,
     "metadata": {},
     "output_type": "execute_result"
    },
    {
     "data": {
      "image/png": "[encoded data removed]",
      "text/plain": [
       "<Figure size 640x480 with 1 Axes>"
      ]
     },
     "metadata": {},
     "output_type": "display_data"
    }
   ],
   "source": [
    "sns.set()\n",
    "joint_df.iloc[:3].T.plot(kind='bar', stacked=True)\n"
   ]
  },
  {
   "cell_type": "code",
   "execution_count": 7,
   "metadata": {},
   "outputs": [],
   "source": [
    "states = [\"São Paulo\", \"Paraná\", \"Rio Grande do Sul\"]\n",
    "customers = [214, 51, 111]\n",
    "products = [237, 102, 304]\n",
    "school = [78, 126, 139]\n",
    "others = [119, 22, 48]\n",
    "\n",
    "df = pd.DataFrame(\n",
    "    {\n",
    "        \"Estados\": states,\n",
    "        \"Consumidor\": customers,\n",
    "        \"Produtor\": products,\n",
    "        \"Escola\": school,\n",
    "        \"Outros\": others\n",
    "    }\n",
    ")\n",
    "df = df.set_index(\"Estados\")\n",
    "df_with_total = df.copy()\n",
    "df_with_total.loc[\"Total\"] = df_with_total.sum()\n",
    "df_with_total[\"Total\"] = df_with_total.sum(axis=1)"
   ]
  },
  {
   "cell_type": "code",
   "execution_count": 8,
   "metadata": {},
   "outputs": [
    {
     "data": {
      "text/html": [
       "<div>\n",
       "<style scoped>\n",
       "    .dataframe tbody tr th:only-of-type {\n",
       "        vertical-align: middle;\n",
       "    }\n",
       "\n",
       "    .dataframe tbody tr th {\n",
       "        vertical-align: top;\n",
       "    }\n",
       "\n",
       "    .dataframe thead th {\n",
       "        text-align: right;\n",
       "    }\n",
       "</style>\n",
       "<table border=\"1\" class=\"dataframe\">\n",
       "  <thead>\n",
       "    <tr style=\"text-align: right;\">\n",
       "      <th></th>\n",
       "      <th>Consumidor</th>\n",
       "      <th>Produtor</th>\n",
       "      <th>Escola</th>\n",
       "      <th>Outros</th>\n",
       "      <th>Total</th>\n",
       "    </tr>\n",
       "    <tr>\n",
       "      <th>Estados</th>\n",
       "      <th></th>\n",
       "      <th></th>\n",
       "      <th></th>\n",
       "      <th></th>\n",
       "      <th></th>\n",
       "    </tr>\n",
       "  </thead>\n",
       "  <tbody>\n",
       "    <tr>\n",
       "      <th>São Paulo</th>\n",
       "      <td>33.02</td>\n",
       "      <td>36.57</td>\n",
       "      <td>12.04</td>\n",
       "      <td>18.36</td>\n",
       "      <td>100.0</td>\n",
       "    </tr>\n",
       "    <tr>\n",
       "      <th>Paraná</th>\n",
       "      <td>16.94</td>\n",
       "      <td>33.89</td>\n",
       "      <td>41.86</td>\n",
       "      <td>7.31</td>\n",
       "      <td>100.0</td>\n",
       "    </tr>\n",
       "    <tr>\n",
       "      <th>Rio Grande do Sul</th>\n",
       "      <td>18.44</td>\n",
       "      <td>50.50</td>\n",
       "      <td>23.09</td>\n",
       "      <td>7.97</td>\n",
       "      <td>100.0</td>\n",
       "    </tr>\n",
       "    <tr>\n",
       "      <th>Total</th>\n",
       "      <td>24.24</td>\n",
       "      <td>41.46</td>\n",
       "      <td>22.11</td>\n",
       "      <td>12.19</td>\n",
       "      <td>100.0</td>\n",
       "    </tr>\n",
       "  </tbody>\n",
       "</table>\n",
       "</div>"
      ],
      "text/plain": [
       "                   Consumidor  Produtor  Escola  Outros  Total\n",
       "Estados                                                       \n",
       "São Paulo               33.02     36.57   12.04   18.36  100.0\n",
       "Paraná                  16.94     33.89   41.86    7.31  100.0\n",
       "Rio Grande do Sul       18.44     50.50   23.09    7.97  100.0\n",
       "Total                   24.24     41.46   22.11   12.19  100.0"
      ]
     },
     "execution_count": 8,
     "metadata": {},
     "output_type": "execute_result"
    }
   ],
   "source": [
    "df_percents = (df_with_total.div(df_with_total[\"Total\"], axis=0) * 100)\n",
    "df_percents = df_percents.round(2)\n",
    "df_percents"
   ]
  },
  {
   "cell_type": "code",
   "execution_count": 9,
   "metadata": {},
   "outputs": [
    {
     "data": {
      "text/html": [
       "<div>\n",
       "<style scoped>\n",
       "    .dataframe tbody tr th:only-of-type {\n",
       "        vertical-align: middle;\n",
       "    }\n",
       "\n",
       "    .dataframe tbody tr th {\n",
       "        vertical-align: top;\n",
       "    }\n",
       "\n",
       "    .dataframe thead th {\n",
       "        text-align: right;\n",
       "    }\n",
       "</style>\n",
       "<table border=\"1\" class=\"dataframe\">\n",
       "  <thead>\n",
       "    <tr style=\"text-align: right;\">\n",
       "      <th></th>\n",
       "      <th>Consumidor</th>\n",
       "      <th>Produtor</th>\n",
       "      <th>Escola</th>\n",
       "      <th>Outros</th>\n",
       "    </tr>\n",
       "    <tr>\n",
       "      <th>Estados</th>\n",
       "      <th></th>\n",
       "      <th></th>\n",
       "      <th></th>\n",
       "      <th></th>\n",
       "    </tr>\n",
       "  </thead>\n",
       "  <tbody>\n",
       "    <tr>\n",
       "      <th>São Paulo</th>\n",
       "      <td>157</td>\n",
       "      <td>269</td>\n",
       "      <td>143</td>\n",
       "      <td>79</td>\n",
       "    </tr>\n",
       "    <tr>\n",
       "      <th>Paraná</th>\n",
       "      <td>73</td>\n",
       "      <td>125</td>\n",
       "      <td>67</td>\n",
       "      <td>37</td>\n",
       "    </tr>\n",
       "    <tr>\n",
       "      <th>Rio Grande do Sul</th>\n",
       "      <td>146</td>\n",
       "      <td>250</td>\n",
       "      <td>133</td>\n",
       "      <td>73</td>\n",
       "    </tr>\n",
       "  </tbody>\n",
       "</table>\n",
       "</div>"
      ],
      "text/plain": [
       "                   Consumidor  Produtor  Escola  Outros\n",
       "Estados                                                \n",
       "São Paulo                 157       269     143      79\n",
       "Paraná                     73       125      67      37\n",
       "Rio Grande do Sul         146       250     133      73"
      ]
     },
     "execution_count": 9,
     "metadata": {},
     "output_type": "execute_result"
    }
   ],
   "source": [
    "df_espected = pd.DataFrame(\n",
    "    {\n",
    "        \"Estados\": states,\n",
    "        \"Consumidor\": list(((df_percents.loc[\"Total\", \"Consumidor\"] / 100) * df_with_total.loc[:, \"Total\"]).values)[:len(states)],\n",
    "        \"Produtor\": list(((df_percents.loc[\"Total\", \"Produtor\"] / 100) * df_with_total.loc[:, \"Total\"]).values)[:len(states)],\n",
    "        \"Escola\": list(((df_percents.loc[\"Total\", \"Escola\"] / 100) * df_with_total.loc[:, \"Total\"]).values)[:len(states)],\n",
    "        \"Outros\": list(((df_percents.loc[\"Total\", \"Outros\"] / 100) * df_with_total.loc[:, \"Total\"]).values)[:len(states)],\n",
    "    }\n",
    ")\n",
    "df_espected = df_espected.set_index(\"Estados\")\n",
    "df_espected = df_espected.round(0).astype(int)\n",
    "df_espected"
   ]
  },
  {
   "cell_type": "code",
   "execution_count": 10,
   "metadata": {},
   "outputs": [
    {
     "data": {
      "text/html": [
       "<div>\n",
       "<style scoped>\n",
       "    .dataframe tbody tr th:only-of-type {\n",
       "        vertical-align: middle;\n",
       "    }\n",
       "\n",
       "    .dataframe tbody tr th {\n",
       "        vertical-align: top;\n",
       "    }\n",
       "\n",
       "    .dataframe thead th {\n",
       "        text-align: right;\n",
       "    }\n",
       "</style>\n",
       "<table border=\"1\" class=\"dataframe\">\n",
       "  <thead>\n",
       "    <tr style=\"text-align: right;\">\n",
       "      <th></th>\n",
       "      <th>Consumidor</th>\n",
       "      <th>Produtor</th>\n",
       "      <th>Escola</th>\n",
       "      <th>Outros</th>\n",
       "    </tr>\n",
       "    <tr>\n",
       "      <th>Estados</th>\n",
       "      <th></th>\n",
       "      <th></th>\n",
       "      <th></th>\n",
       "      <th></th>\n",
       "    </tr>\n",
       "  </thead>\n",
       "  <tbody>\n",
       "    <tr>\n",
       "      <th>São Paulo</th>\n",
       "      <td>57</td>\n",
       "      <td>-32</td>\n",
       "      <td>-65</td>\n",
       "      <td>40</td>\n",
       "    </tr>\n",
       "    <tr>\n",
       "      <th>Paraná</th>\n",
       "      <td>-22</td>\n",
       "      <td>-23</td>\n",
       "      <td>59</td>\n",
       "      <td>-15</td>\n",
       "    </tr>\n",
       "    <tr>\n",
       "      <th>Rio Grande do Sul</th>\n",
       "      <td>-35</td>\n",
       "      <td>54</td>\n",
       "      <td>6</td>\n",
       "      <td>-25</td>\n",
       "    </tr>\n",
       "  </tbody>\n",
       "</table>\n",
       "</div>"
      ],
      "text/plain": [
       "                   Consumidor  Produtor  Escola  Outros\n",
       "Estados                                                \n",
       "São Paulo                  57       -32     -65      40\n",
       "Paraná                    -22       -23      59     -15\n",
       "Rio Grande do Sul         -35        54       6     -25"
      ]
     },
     "execution_count": 10,
     "metadata": {},
     "output_type": "execute_result"
    }
   ],
   "source": [
    "df_desv = (df - df_espected).round(0).astype(int)\n",
    "df_desv"
   ]
  },
  {
   "attachments": {},
   "cell_type": "markdown",
   "metadata": {},
   "source": [
    "$$ \\frac{(o_i - e_i)^2}{e_i} $$"
   ]
  },
  {
   "cell_type": "code",
   "execution_count": 11,
   "metadata": {},
   "outputs": [
    {
     "data": {
      "text/plain": [
       "29.545454545454547"
      ]
     },
     "execution_count": 11,
     "metadata": {},
     "output_type": "execute_result"
    }
   ],
   "source": [
    "sao_paulo_escole_qui_quadrado = ((df.loc[\"São Paulo\", \"Escola\"] - df_espected.loc[\"São Paulo\", \"Escola\"]) ** 2) / df_espected.loc[\"São Paulo\", \"Escola\"]\n",
    "sao_paulo_escole_qui_quadrado"
   ]
  },
  {
   "attachments": {},
   "cell_type": "markdown",
   "metadata": {},
   "source": [
    "Qui Quadrado\n",
    "\n",
    "$$ \\chi^2 = \\sum_{i=1}^r \\sum_{j=1}^s \\frac{(n_{ij}-n_{ij}^*)^2}{n_{ij}^*} $$"
   ]
  },
  {
   "cell_type": "code",
   "execution_count": 12,
   "metadata": {},
   "outputs": [
    {
     "data": {
      "text/plain": [
       "172.0847515023836"
      ]
     },
     "execution_count": 12,
     "metadata": {},
     "output_type": "execute_result"
    }
   ],
   "source": [
    "r = df.shape[0]\n",
    "c = df.shape[1]\n",
    "n = df_with_total.loc[\"Total\", \"Total\"]\n",
    "qui_quadrado = ((df - df_espected) ** 2 / df_espected).sum().sum()\n",
    "qui_quadrado"
   ]
  },
  {
   "attachments": {},
   "cell_type": "markdown",
   "metadata": {},
   "source": [
    "Coeficiente de Contingência\n",
    "\n",
    "$$ C = \\sqrt{\\frac{\\chi^2}{\\chi^2 + n}} $$"
   ]
  },
  {
   "cell_type": "code",
   "execution_count": 13,
   "metadata": {},
   "outputs": [
    {
     "data": {
      "text/plain": [
       "0.3160224058082541"
      ]
     },
     "execution_count": 13,
     "metadata": {},
     "output_type": "execute_result"
    }
   ],
   "source": [
    "C = sqrt(qui_quadrado / (qui_quadrado + n))\n",
    "C"
   ]
  },
  {
   "attachments": {},
   "cell_type": "markdown",
   "metadata": {},
   "source": [
    "Coeficiente Tschuprow\n",
    "\n",
    "$$ T = \\sqrt{\\frac{\\chi^2}{n\\sqrt{(r-1)(s-1)}}} $$"
   ]
  },
  {
   "cell_type": "code",
   "execution_count": 14,
   "metadata": {},
   "outputs": [
    {
     "data": {
      "text/plain": [
       "0.21282737230781038"
      ]
     },
     "execution_count": 14,
     "metadata": {},
     "output_type": "execute_result"
    }
   ],
   "source": [
    "T = sqrt(qui_quadrado / (n * sqrt((r - 1) * (c - 1))))\n",
    "T"
   ]
  },
  {
   "attachments": {},
   "cell_type": "markdown",
   "metadata": {},
   "source": [
    "Coeficiente de Crâmer\n",
    "\n",
    "$$ V = \\sqrt{\\frac{\\chi^2}{n \\times \\min{((r-1), (c-1))}}} $$\n",
    "\n",
    "Sendo **r** o número de linhas (variável independente) e **c** o número de colunas (variável dependente)."
   ]
  },
  {
   "cell_type": "code",
   "execution_count": 15,
   "metadata": {},
   "outputs": [
    {
     "data": {
      "text/plain": [
       "0.23553220495038263"
      ]
     },
     "execution_count": 15,
     "metadata": {},
     "output_type": "execute_result"
    }
   ],
   "source": [
    "V = sqrt(qui_quadrado / (n * (min(r-1, c-1))))\n",
    "V"
   ]
  },
  {
   "attachments": {},
   "cell_type": "markdown",
   "metadata": {},
   "source": [
    "## Variáveis Quantitativas"
   ]
  },
  {
   "cell_type": "code",
   "execution_count": 4,
   "metadata": {},
   "outputs": [
    {
     "data": {
      "text/html": [
       "<div>\n",
       "<style scoped>\n",
       "    .dataframe tbody tr th:only-of-type {\n",
       "        vertical-align: middle;\n",
       "    }\n",
       "\n",
       "    .dataframe tbody tr th {\n",
       "        vertical-align: top;\n",
       "    }\n",
       "\n",
       "    .dataframe thead th {\n",
       "        text-align: right;\n",
       "    }\n",
       "</style>\n",
       "<table border=\"1\" class=\"dataframe\">\n",
       "  <thead>\n",
       "    <tr style=\"text-align: right;\">\n",
       "      <th></th>\n",
       "      <th>Anos de Serviço</th>\n",
       "      <th>Número de Clientes</th>\n",
       "    </tr>\n",
       "    <tr>\n",
       "      <th>Agentes</th>\n",
       "      <th></th>\n",
       "      <th></th>\n",
       "    </tr>\n",
       "  </thead>\n",
       "  <tbody>\n",
       "    <tr>\n",
       "      <th>A</th>\n",
       "      <td>2</td>\n",
       "      <td>48</td>\n",
       "    </tr>\n",
       "    <tr>\n",
       "      <th>B</th>\n",
       "      <td>3</td>\n",
       "      <td>50</td>\n",
       "    </tr>\n",
       "    <tr>\n",
       "      <th>C</th>\n",
       "      <td>4</td>\n",
       "      <td>56</td>\n",
       "    </tr>\n",
       "    <tr>\n",
       "      <th>D</th>\n",
       "      <td>5</td>\n",
       "      <td>52</td>\n",
       "    </tr>\n",
       "    <tr>\n",
       "      <th>E</th>\n",
       "      <td>4</td>\n",
       "      <td>43</td>\n",
       "    </tr>\n",
       "    <tr>\n",
       "      <th>F</th>\n",
       "      <td>6</td>\n",
       "      <td>60</td>\n",
       "    </tr>\n",
       "    <tr>\n",
       "      <th>G</th>\n",
       "      <td>7</td>\n",
       "      <td>62</td>\n",
       "    </tr>\n",
       "    <tr>\n",
       "      <th>H</th>\n",
       "      <td>8</td>\n",
       "      <td>58</td>\n",
       "    </tr>\n",
       "    <tr>\n",
       "      <th>I</th>\n",
       "      <td>8</td>\n",
       "      <td>64</td>\n",
       "    </tr>\n",
       "    <tr>\n",
       "      <th>J</th>\n",
       "      <td>10</td>\n",
       "      <td>72</td>\n",
       "    </tr>\n",
       "  </tbody>\n",
       "</table>\n",
       "</div>"
      ],
      "text/plain": [
       "         Anos de Serviço  Número de Clientes\n",
       "Agentes                                     \n",
       "A                      2                  48\n",
       "B                      3                  50\n",
       "C                      4                  56\n",
       "D                      5                  52\n",
       "E                      4                  43\n",
       "F                      6                  60\n",
       "G                      7                  62\n",
       "H                      8                  58\n",
       "I                      8                  64\n",
       "J                     10                  72"
      ]
     },
     "execution_count": 4,
     "metadata": {},
     "output_type": "execute_result"
    }
   ],
   "source": [
    "agentes = [\"A\", \"B\", \"C\", \"D\", \"E\", \"F\", \"G\", \"H\", \"I\", \"J\"]\n",
    "ano_servico = [2, 3, 4, 5, 4, 6, 7, 8, 8, 10]\n",
    "num_clientes = [48, 50, 56, 52, 43, 60, 62, 58, 64, 72]\n",
    "\n",
    "df = pd.DataFrame(\n",
    "    {\n",
    "        \"Agentes\": agentes,\n",
    "        \"Anos de Serviço\": ano_servico,\n",
    "        \"Número de Clientes\": num_clientes\n",
    "    }\n",
    ")\n",
    "df = df.set_index(\"Agentes\")\n",
    "df"
   ]
  },
  {
   "cell_type": "code",
   "execution_count": 5,
   "metadata": {},
   "outputs": [
    {
     "data": {
      "image/png": "[encoded data removed]",
      "text/plain": [
       "<Figure size 640x480 with 1 Axes>"
      ]
     },
     "metadata": {},
     "output_type": "display_data"
    }
   ],
   "source": [
    "\n",
    "plt.scatter(df[\"Anos de Serviço\"], df[\"Número de Clientes\"])\n",
    "plt.title(\"Anos de Serviço x Número de Clientes\")\n",
    "plt.xlabel(\"Anos de Serviço\")\n",
    "plt.ylabel(\"Número de Clientes\")\n",
    "plt.show()"
   ]
  },
  {
   "attachments": {},
   "cell_type": "markdown",
   "metadata": {},
   "source": [
    "Numa pesquisa feita com dez famílias com renda bruta mensal entre 10 e 60 salários mínimos, mediram-se a porcentagem da renda bruta anual gasta com assistência médica."
   ]
  },
  {
   "cell_type": "code",
   "execution_count": 18,
   "metadata": {},
   "outputs": [
    {
     "data": {
      "text/html": [
       "<div>\n",
       "<style scoped>\n",
       "    .dataframe tbody tr th:only-of-type {\n",
       "        vertical-align: middle;\n",
       "    }\n",
       "\n",
       "    .dataframe tbody tr th {\n",
       "        vertical-align: top;\n",
       "    }\n",
       "\n",
       "    .dataframe thead th {\n",
       "        text-align: right;\n",
       "    }\n",
       "</style>\n",
       "<table border=\"1\" class=\"dataframe\">\n",
       "  <thead>\n",
       "    <tr style=\"text-align: right;\">\n",
       "      <th></th>\n",
       "      <th>Renda Bruta Mensal (Sal Min)</th>\n",
       "      <th>Gasto Médico Anual (% Anual)</th>\n",
       "    </tr>\n",
       "    <tr>\n",
       "      <th>Família</th>\n",
       "      <th></th>\n",
       "      <th></th>\n",
       "    </tr>\n",
       "  </thead>\n",
       "  <tbody>\n",
       "    <tr>\n",
       "      <th>A</th>\n",
       "      <td>12</td>\n",
       "      <td>7.2</td>\n",
       "    </tr>\n",
       "    <tr>\n",
       "      <th>B</th>\n",
       "      <td>16</td>\n",
       "      <td>7.4</td>\n",
       "    </tr>\n",
       "    <tr>\n",
       "      <th>C</th>\n",
       "      <td>18</td>\n",
       "      <td>7.0</td>\n",
       "    </tr>\n",
       "    <tr>\n",
       "      <th>D</th>\n",
       "      <td>20</td>\n",
       "      <td>6.5</td>\n",
       "    </tr>\n",
       "    <tr>\n",
       "      <th>E</th>\n",
       "      <td>28</td>\n",
       "      <td>6.6</td>\n",
       "    </tr>\n",
       "    <tr>\n",
       "      <th>F</th>\n",
       "      <td>30</td>\n",
       "      <td>6.7</td>\n",
       "    </tr>\n",
       "    <tr>\n",
       "      <th>G</th>\n",
       "      <td>40</td>\n",
       "      <td>6.0</td>\n",
       "    </tr>\n",
       "    <tr>\n",
       "      <th>H</th>\n",
       "      <td>48</td>\n",
       "      <td>5.6</td>\n",
       "    </tr>\n",
       "    <tr>\n",
       "      <th>I</th>\n",
       "      <td>50</td>\n",
       "      <td>6.0</td>\n",
       "    </tr>\n",
       "    <tr>\n",
       "      <th>J</th>\n",
       "      <td>54</td>\n",
       "      <td>5.5</td>\n",
       "    </tr>\n",
       "  </tbody>\n",
       "</table>\n",
       "</div>"
      ],
      "text/plain": [
       "         Renda Bruta Mensal (Sal Min)  Gasto Médico Anual (% Anual)\n",
       "Família                                                            \n",
       "A                                  12                           7.2\n",
       "B                                  16                           7.4\n",
       "C                                  18                           7.0\n",
       "D                                  20                           6.5\n",
       "E                                  28                           6.6\n",
       "F                                  30                           6.7\n",
       "G                                  40                           6.0\n",
       "H                                  48                           5.6\n",
       "I                                  50                           6.0\n",
       "J                                  54                           5.5"
      ]
     },
     "execution_count": 18,
     "metadata": {},
     "output_type": "execute_result"
    }
   ],
   "source": [
    "familia = [\"A\", \"B\", \"C\", \"D\", \"E\", \"F\", \"G\", \"H\", \"I\", \"J\"]\n",
    "renda = [12, 16, 18, 20, 28, 30, 40, 48, 50, 54]\n",
    "gasto_medico = [7.2, 7.4, 7.0, 6.5, 6.6, 6.7, 6.0, 5.6, 6.0, 5.5]\n",
    "\n",
    "df = pd.DataFrame(\n",
    "    {\n",
    "        \"Família\": familia,\n",
    "        \"Renda Bruta Mensal (Sal Min)\": renda,\n",
    "        \"Gasto Médico Anual (% Anual)\": gasto_medico\n",
    "    }\n",
    ")\n",
    "df = df.set_index(\"Família\")\n",
    "df"
   ]
  },
  {
   "cell_type": "code",
   "execution_count": 19,
   "metadata": {},
   "outputs": [
    {
     "data": {
      "image/png": "[encoded data removed]",
      "text/plain": [
       "<Figure size 640x480 with 1 Axes>"
      ]
     },
     "metadata": {},
     "output_type": "display_data"
    }
   ],
   "source": [
    "plt.scatter(df[\"Renda Bruta Mensal (Sal Min)\"], df[\"Gasto Médico Anual (% Anual)\"])\n",
    "plt.title(\"Renda Bruta Mensal (Sal Min) x Gasto Médico Anual (% Anual)\")\n",
    "plt.xlabel(\"Renda Bruta Mensal (Sal Min)\")\n",
    "plt.ylabel(\"Gasto Médico Anual (% Anual)\")\n",
    "plt.show()"
   ]
  },
  {
   "attachments": {},
   "cell_type": "markdown",
   "metadata": {},
   "source": [
    "Oito indivíduos foram submetidos a um teste sobre conhecimento de língua estrangeira e, em seguida, mediu-se o tempo gasto para cada um aprender a operar uma determinada máquina."
   ]
  },
  {
   "cell_type": "code",
   "execution_count": 20,
   "metadata": {},
   "outputs": [
    {
     "data": {
      "text/html": [
       "<div>\n",
       "<style scoped>\n",
       "    .dataframe tbody tr th:only-of-type {\n",
       "        vertical-align: middle;\n",
       "    }\n",
       "\n",
       "    .dataframe tbody tr th {\n",
       "        vertical-align: top;\n",
       "    }\n",
       "\n",
       "    .dataframe thead th {\n",
       "        text-align: right;\n",
       "    }\n",
       "</style>\n",
       "<table border=\"1\" class=\"dataframe\">\n",
       "  <thead>\n",
       "    <tr style=\"text-align: right;\">\n",
       "      <th></th>\n",
       "      <th>Pontos no Teste</th>\n",
       "      <th>Tempo (minutos)</th>\n",
       "    </tr>\n",
       "    <tr>\n",
       "      <th>Indivíduos</th>\n",
       "      <th></th>\n",
       "      <th></th>\n",
       "    </tr>\n",
       "  </thead>\n",
       "  <tbody>\n",
       "    <tr>\n",
       "      <th>A</th>\n",
       "      <td>45</td>\n",
       "      <td>343</td>\n",
       "    </tr>\n",
       "    <tr>\n",
       "      <th>B</th>\n",
       "      <td>52</td>\n",
       "      <td>368</td>\n",
       "    </tr>\n",
       "    <tr>\n",
       "      <th>C</th>\n",
       "      <td>61</td>\n",
       "      <td>355</td>\n",
       "    </tr>\n",
       "    <tr>\n",
       "      <th>D</th>\n",
       "      <td>70</td>\n",
       "      <td>334</td>\n",
       "    </tr>\n",
       "    <tr>\n",
       "      <th>E</th>\n",
       "      <td>74</td>\n",
       "      <td>337</td>\n",
       "    </tr>\n",
       "    <tr>\n",
       "      <th>F</th>\n",
       "      <td>76</td>\n",
       "      <td>381</td>\n",
       "    </tr>\n",
       "    <tr>\n",
       "      <th>G</th>\n",
       "      <td>80</td>\n",
       "      <td>345</td>\n",
       "    </tr>\n",
       "    <tr>\n",
       "      <th>H</th>\n",
       "      <td>90</td>\n",
       "      <td>375</td>\n",
       "    </tr>\n",
       "  </tbody>\n",
       "</table>\n",
       "</div>"
      ],
      "text/plain": [
       "            Pontos no Teste  Tempo (minutos)\n",
       "Indivíduos                                  \n",
       "A                        45              343\n",
       "B                        52              368\n",
       "C                        61              355\n",
       "D                        70              334\n",
       "E                        74              337\n",
       "F                        76              381\n",
       "G                        80              345\n",
       "H                        90              375"
      ]
     },
     "execution_count": 20,
     "metadata": {},
     "output_type": "execute_result"
    }
   ],
   "source": [
    "individuos = [\"A\", \"B\", \"C\", \"D\", \"E\", \"F\", \"G\", \"H\"]\n",
    "pontos_teste = [45, 52, 61, 70, 74, 76, 80, 90]\n",
    "tempo_minutos = [343, 368, 355, 334, 337, 381, 345, 375]\n",
    "\n",
    "df = pd.DataFrame(\n",
    "    {\n",
    "        \"Indivíduos\": individuos,\n",
    "        \"Pontos no Teste\": pontos_teste,\n",
    "        \"Tempo (minutos)\": tempo_minutos\n",
    "    }\n",
    ")\n",
    "df = df.set_index(\"Indivíduos\")\n",
    "df"
   ]
  },
  {
   "cell_type": "code",
   "execution_count": 21,
   "metadata": {},
   "outputs": [
    {
     "data": {
      "image/png": "[encoded data removed]",
      "text/plain": [
       "<Figure size 640x480 with 1 Axes>"
      ]
     },
     "metadata": {},
     "output_type": "display_data"
    }
   ],
   "source": [
    "plt.scatter(df[\"Pontos no Teste\"], df[\"Tempo (minutos)\"])\n",
    "plt.title(\"Pontos no Teste x Tempo (minutos)\")\n",
    "plt.xlabel(\"Pontos no Teste\")\n",
    "plt.ylabel(\"Tempo (minutos)\")\n",
    "plt.show()"
   ]
  },
  {
   "cell_type": "code",
   "execution_count": 22,
   "metadata": {},
   "outputs": [
    {
     "data": {
      "text/html": [
       "<div>\n",
       "<style scoped>\n",
       "    .dataframe tbody tr th:only-of-type {\n",
       "        vertical-align: middle;\n",
       "    }\n",
       "\n",
       "    .dataframe tbody tr th {\n",
       "        vertical-align: top;\n",
       "    }\n",
       "\n",
       "    .dataframe thead th {\n",
       "        text-align: right;\n",
       "    }\n",
       "</style>\n",
       "<table border=\"1\" class=\"dataframe\">\n",
       "  <thead>\n",
       "    <tr style=\"text-align: right;\">\n",
       "      <th></th>\n",
       "      <th>Pontos no Teste</th>\n",
       "      <th>Tempo (minutos)</th>\n",
       "    </tr>\n",
       "  </thead>\n",
       "  <tbody>\n",
       "    <tr>\n",
       "      <th>Pontos no Teste</th>\n",
       "      <td>1.000000</td>\n",
       "      <td>0.238101</td>\n",
       "    </tr>\n",
       "    <tr>\n",
       "      <th>Tempo (minutos)</th>\n",
       "      <td>0.238101</td>\n",
       "      <td>1.000000</td>\n",
       "    </tr>\n",
       "  </tbody>\n",
       "</table>\n",
       "</div>"
      ],
      "text/plain": [
       "                 Pontos no Teste  Tempo (minutos)\n",
       "Pontos no Teste         1.000000         0.238101\n",
       "Tempo (minutos)         0.238101         1.000000"
      ]
     },
     "execution_count": 22,
     "metadata": {},
     "output_type": "execute_result"
    }
   ],
   "source": [
    "df.corr()"
   ]
  },
  {
   "cell_type": "code",
   "execution_count": 7,
   "metadata": {},
   "outputs": [],
   "source": [
    "def desvio_padrao(data):\n",
    "    x_mean = data.mean()\n",
    "    s = []\n",
    "    for x in data:\n",
    "        s.append((x - x_mean) ** 2)\n",
    "    return sqrt(sum(s) / len(data))\n"
   ]
  },
  {
   "cell_type": "code",
   "execution_count": 8,
   "metadata": {},
   "outputs": [
    {
     "data": {
      "text/plain": [
       "Index(['Anos de Serviço', 'Número de Clientes'], dtype='object')"
      ]
     },
     "execution_count": 8,
     "metadata": {},
     "output_type": "execute_result"
    }
   ],
   "source": [
    "df.columns"
   ]
  },
  {
   "cell_type": "code",
   "execution_count": 9,
   "metadata": {},
   "outputs": [],
   "source": [
    "x_mean = df[\"Anos de Serviço\"].mean()\n",
    "y_mean = df[\"Número de Clientes\"].mean()\n",
    "x_std = desvio_padrao(df[\"Anos de Serviço\"])\n",
    "y_std = desvio_padrao(df[\"Número de Clientes\"])\n",
    "n = df.shape[0]"
   ]
  },
  {
   "cell_type": "code",
   "execution_count": 10,
   "metadata": {},
   "outputs": [
    {
     "data": {
      "text/html": [
       "<div>\n",
       "<style scoped>\n",
       "    .dataframe tbody tr th:only-of-type {\n",
       "        vertical-align: middle;\n",
       "    }\n",
       "\n",
       "    .dataframe tbody tr th {\n",
       "        vertical-align: top;\n",
       "    }\n",
       "\n",
       "    .dataframe thead th {\n",
       "        text-align: right;\n",
       "    }\n",
       "</style>\n",
       "<table border=\"1\" class=\"dataframe\">\n",
       "  <thead>\n",
       "    <tr style=\"text-align: right;\">\n",
       "      <th></th>\n",
       "      <th>Anos de Serviço</th>\n",
       "      <th>Número de Clientes</th>\n",
       "      <th>x-x_mean</th>\n",
       "      <th>y-y_mean</th>\n",
       "      <th>y-y_mean/dp(y)</th>\n",
       "      <th>x-x_mean/dp(x)</th>\n",
       "      <th>(x-x_mean/dp(x)) * (y-y_mean/dp(y))</th>\n",
       "    </tr>\n",
       "    <tr>\n",
       "      <th>Agentes</th>\n",
       "      <th></th>\n",
       "      <th></th>\n",
       "      <th></th>\n",
       "      <th></th>\n",
       "      <th></th>\n",
       "      <th></th>\n",
       "      <th></th>\n",
       "    </tr>\n",
       "  </thead>\n",
       "  <tbody>\n",
       "    <tr>\n",
       "      <th>A</th>\n",
       "      <td>2</td>\n",
       "      <td>48</td>\n",
       "      <td>-3.7</td>\n",
       "      <td>-8.5</td>\n",
       "      <td>-1.047469</td>\n",
       "      <td>-1.535019</td>\n",
       "      <td>1.607884</td>\n",
       "    </tr>\n",
       "    <tr>\n",
       "      <th>B</th>\n",
       "      <td>3</td>\n",
       "      <td>50</td>\n",
       "      <td>-2.7</td>\n",
       "      <td>-6.5</td>\n",
       "      <td>-0.801005</td>\n",
       "      <td>-1.120149</td>\n",
       "      <td>0.897245</td>\n",
       "    </tr>\n",
       "    <tr>\n",
       "      <th>C</th>\n",
       "      <td>4</td>\n",
       "      <td>56</td>\n",
       "      <td>-1.7</td>\n",
       "      <td>-0.5</td>\n",
       "      <td>-0.061616</td>\n",
       "      <td>-0.705279</td>\n",
       "      <td>0.043456</td>\n",
       "    </tr>\n",
       "    <tr>\n",
       "      <th>D</th>\n",
       "      <td>5</td>\n",
       "      <td>52</td>\n",
       "      <td>-0.7</td>\n",
       "      <td>-4.5</td>\n",
       "      <td>-0.554542</td>\n",
       "      <td>-0.290409</td>\n",
       "      <td>0.161044</td>\n",
       "    </tr>\n",
       "    <tr>\n",
       "      <th>E</th>\n",
       "      <td>4</td>\n",
       "      <td>43</td>\n",
       "      <td>-1.7</td>\n",
       "      <td>-13.5</td>\n",
       "      <td>-1.663627</td>\n",
       "      <td>-0.705279</td>\n",
       "      <td>1.173321</td>\n",
       "    </tr>\n",
       "    <tr>\n",
       "      <th>F</th>\n",
       "      <td>6</td>\n",
       "      <td>60</td>\n",
       "      <td>0.3</td>\n",
       "      <td>3.5</td>\n",
       "      <td>0.431311</td>\n",
       "      <td>0.124461</td>\n",
       "      <td>0.053681</td>\n",
       "    </tr>\n",
       "    <tr>\n",
       "      <th>G</th>\n",
       "      <td>7</td>\n",
       "      <td>62</td>\n",
       "      <td>1.3</td>\n",
       "      <td>5.5</td>\n",
       "      <td>0.677774</td>\n",
       "      <td>0.539331</td>\n",
       "      <td>0.365544</td>\n",
       "    </tr>\n",
       "    <tr>\n",
       "      <th>H</th>\n",
       "      <td>8</td>\n",
       "      <td>58</td>\n",
       "      <td>2.3</td>\n",
       "      <td>1.5</td>\n",
       "      <td>0.184847</td>\n",
       "      <td>0.954201</td>\n",
       "      <td>0.176382</td>\n",
       "    </tr>\n",
       "    <tr>\n",
       "      <th>I</th>\n",
       "      <td>8</td>\n",
       "      <td>64</td>\n",
       "      <td>2.3</td>\n",
       "      <td>7.5</td>\n",
       "      <td>0.924237</td>\n",
       "      <td>0.954201</td>\n",
       "      <td>0.881908</td>\n",
       "    </tr>\n",
       "    <tr>\n",
       "      <th>J</th>\n",
       "      <td>10</td>\n",
       "      <td>72</td>\n",
       "      <td>4.3</td>\n",
       "      <td>15.5</td>\n",
       "      <td>1.910090</td>\n",
       "      <td>1.783941</td>\n",
       "      <td>3.407487</td>\n",
       "    </tr>\n",
       "  </tbody>\n",
       "</table>\n",
       "</div>"
      ],
      "text/plain": [
       "         Anos de Serviço  Número de Clientes  x-x_mean  y-y_mean  \\\n",
       "Agentes                                                            \n",
       "A                      2                  48      -3.7      -8.5   \n",
       "B                      3                  50      -2.7      -6.5   \n",
       "C                      4                  56      -1.7      -0.5   \n",
       "D                      5                  52      -0.7      -4.5   \n",
       "E                      4                  43      -1.7     -13.5   \n",
       "F                      6                  60       0.3       3.5   \n",
       "G                      7                  62       1.3       5.5   \n",
       "H                      8                  58       2.3       1.5   \n",
       "I                      8                  64       2.3       7.5   \n",
       "J                     10                  72       4.3      15.5   \n",
       "\n",
       "         y-y_mean/dp(y)  x-x_mean/dp(x)  (x-x_mean/dp(x)) * (y-y_mean/dp(y))  \n",
       "Agentes                                                                       \n",
       "A             -1.047469       -1.535019                             1.607884  \n",
       "B             -0.801005       -1.120149                             0.897245  \n",
       "C             -0.061616       -0.705279                             0.043456  \n",
       "D             -0.554542       -0.290409                             0.161044  \n",
       "E             -1.663627       -0.705279                             1.173321  \n",
       "F              0.431311        0.124461                             0.053681  \n",
       "G              0.677774        0.539331                             0.365544  \n",
       "H              0.184847        0.954201                             0.176382  \n",
       "I              0.924237        0.954201                             0.881908  \n",
       "J              1.910090        1.783941                             3.407487  "
      ]
     },
     "execution_count": 10,
     "metadata": {},
     "output_type": "execute_result"
    }
   ],
   "source": [
    "df[\"x-x_mean\"] = df[\"Anos de Serviço\"] - x_mean\n",
    "df[\"y-y_mean\"] = df[\"Número de Clientes\"] - y_mean\n",
    "df[\"y-y_mean/dp(y)\"] = df[\"y-y_mean\"] / y_std\n",
    "df[\"x-x_mean/dp(x)\"] = df[\"x-x_mean\"] / x_std\n",
    "df[\"(x-x_mean/dp(x)) * (y-y_mean/dp(y))\"] = df[\"x-x_mean/dp(x)\"] * df[\"y-y_mean/dp(y)\"]\n",
    "df"
   ]
  },
  {
   "cell_type": "code",
   "execution_count": 11,
   "metadata": {},
   "outputs": [
    {
     "data": {
      "text/plain": [
       "87.67952099440144"
      ]
     },
     "execution_count": 11,
     "metadata": {},
     "output_type": "execute_result"
    }
   ],
   "source": [
    "(df[\"(x-x_mean/dp(x)) * (y-y_mean/dp(y))\"].sum() / (n)) * 100"
   ]
  },
  {
   "cell_type": "code",
   "execution_count": 12,
   "metadata": {},
   "outputs": [
    {
     "data": {
      "text/plain": [
       "0.8767952099440145"
      ]
     },
     "execution_count": 12,
     "metadata": {},
     "output_type": "execute_result"
    }
   ],
   "source": [
    "1/n * df[\"(x-x_mean/dp(x)) * (y-y_mean/dp(y))\"].sum()"
   ]
  },
  {
   "cell_type": "code",
   "execution_count": 13,
   "metadata": {},
   "outputs": [
    {
     "data": {
      "text/plain": [
       "0.8767952099440144"
      ]
     },
     "execution_count": 13,
     "metadata": {},
     "output_type": "execute_result"
    }
   ],
   "source": [
    "((df[\"x-x_mean\"] * df[\"y-y_mean\"]).sum() / n) / (x_std * y_std)"
   ]
  },
  {
   "attachments": {},
   "cell_type": "markdown",
   "metadata": {},
   "source": [
    "# Associação entre variáveis qualitativas e quantitativas"
   ]
  },
  {
   "cell_type": "code",
   "execution_count": 3,
   "metadata": {},
   "outputs": [
    {
     "data": {
      "text/html": [
       "<div>\n",
       "<style scoped>\n",
       "    .dataframe tbody tr th:only-of-type {\n",
       "        vertical-align: middle;\n",
       "    }\n",
       "\n",
       "    .dataframe tbody tr th {\n",
       "        vertical-align: top;\n",
       "    }\n",
       "\n",
       "    .dataframe thead th {\n",
       "        text-align: right;\n",
       "    }\n",
       "</style>\n",
       "<table border=\"1\" class=\"dataframe\">\n",
       "  <thead>\n",
       "    <tr style=\"text-align: right;\">\n",
       "      <th></th>\n",
       "      <th>Estado Civil</th>\n",
       "      <th>Grau de Instrução</th>\n",
       "      <th>N de Filhos</th>\n",
       "      <th>Salario (x Sal Min)</th>\n",
       "      <th>Anos</th>\n",
       "      <th>Meses</th>\n",
       "      <th>Região de Procedência</th>\n",
       "    </tr>\n",
       "    <tr>\n",
       "      <th>N</th>\n",
       "      <th></th>\n",
       "      <th></th>\n",
       "      <th></th>\n",
       "      <th></th>\n",
       "      <th></th>\n",
       "      <th></th>\n",
       "      <th></th>\n",
       "    </tr>\n",
       "  </thead>\n",
       "  <tbody>\n",
       "    <tr>\n",
       "      <th>1</th>\n",
       "      <td>solteiro</td>\n",
       "      <td>ensino fundamental</td>\n",
       "      <td>NaN</td>\n",
       "      <td>4.00</td>\n",
       "      <td>26</td>\n",
       "      <td>3</td>\n",
       "      <td>interior</td>\n",
       "    </tr>\n",
       "    <tr>\n",
       "      <th>2</th>\n",
       "      <td>casado</td>\n",
       "      <td>ensino fundamental</td>\n",
       "      <td>1.0</td>\n",
       "      <td>4.56</td>\n",
       "      <td>32</td>\n",
       "      <td>10</td>\n",
       "      <td>capital</td>\n",
       "    </tr>\n",
       "    <tr>\n",
       "      <th>3</th>\n",
       "      <td>casado</td>\n",
       "      <td>ensino fundamental</td>\n",
       "      <td>2.0</td>\n",
       "      <td>5.25</td>\n",
       "      <td>36</td>\n",
       "      <td>5</td>\n",
       "      <td>capital</td>\n",
       "    </tr>\n",
       "    <tr>\n",
       "      <th>4</th>\n",
       "      <td>solteiro</td>\n",
       "      <td>ensino médio</td>\n",
       "      <td>NaN</td>\n",
       "      <td>5.73</td>\n",
       "      <td>20</td>\n",
       "      <td>10</td>\n",
       "      <td>outra</td>\n",
       "    </tr>\n",
       "    <tr>\n",
       "      <th>5</th>\n",
       "      <td>solteiro</td>\n",
       "      <td>ensino fundamental</td>\n",
       "      <td>NaN</td>\n",
       "      <td>6.26</td>\n",
       "      <td>40</td>\n",
       "      <td>7</td>\n",
       "      <td>outra</td>\n",
       "    </tr>\n",
       "  </tbody>\n",
       "</table>\n",
       "</div>"
      ],
      "text/plain": [
       "  Estado Civil   Grau de Instrução  N de Filhos  Salario (x Sal Min)  Anos  \\\n",
       "N                                                                            \n",
       "1     solteiro  ensino fundamental          NaN                 4.00    26   \n",
       "2       casado  ensino fundamental          1.0                 4.56    32   \n",
       "3       casado  ensino fundamental          2.0                 5.25    36   \n",
       "4     solteiro        ensino médio          NaN                 5.73    20   \n",
       "5     solteiro  ensino fundamental          NaN                 6.26    40   \n",
       "\n",
       "   Meses Região de Procedência  \n",
       "N                               \n",
       "1      3              interior  \n",
       "2     10               capital  \n",
       "3      5               capital  \n",
       "4     10                 outra  \n",
       "5      7                 outra  "
      ]
     },
     "execution_count": 3,
     "metadata": {},
     "output_type": "execute_result"
    }
   ],
   "source": [
    "df.head()"
   ]
  },
  {
   "cell_type": "code",
   "execution_count": 8,
   "metadata": {},
   "outputs": [],
   "source": [
    "def variancia(data):\n",
    "    x_mean = data.mean()\n",
    "    s = []\n",
    "    for x in data:\n",
    "        s.append((x - x_mean) ** 2)\n",
    "    return sum(s) / len(data)"
   ]
  },
  {
   "attachments": {},
   "cell_type": "markdown",
   "metadata": {},
   "source": [
    "## Salários segundo grau de instrução"
   ]
  },
  {
   "cell_type": "code",
   "execution_count": 9,
   "metadata": {},
   "outputs": [
    {
     "data": {
      "text/html": [
       "<div>\n",
       "<style scoped>\n",
       "    .dataframe tbody tr th:only-of-type {\n",
       "        vertical-align: middle;\n",
       "    }\n",
       "\n",
       "    .dataframe tbody tr th {\n",
       "        vertical-align: top;\n",
       "    }\n",
       "\n",
       "    .dataframe thead th {\n",
       "        text-align: right;\n",
       "    }\n",
       "</style>\n",
       "<table border=\"1\" class=\"dataframe\">\n",
       "  <thead>\n",
       "    <tr style=\"text-align: right;\">\n",
       "      <th></th>\n",
       "      <th>n</th>\n",
       "      <th>mean(s)</th>\n",
       "      <th>dp(s)</th>\n",
       "      <th>var(s)</th>\n",
       "      <th>S(1)</th>\n",
       "      <th>q1</th>\n",
       "      <th>q2</th>\n",
       "      <th>q3</th>\n",
       "      <th>S(n)</th>\n",
       "    </tr>\n",
       "    <tr>\n",
       "      <th>Grau de Instrução</th>\n",
       "      <th></th>\n",
       "      <th></th>\n",
       "      <th></th>\n",
       "      <th></th>\n",
       "      <th></th>\n",
       "      <th></th>\n",
       "      <th></th>\n",
       "      <th></th>\n",
       "      <th></th>\n",
       "    </tr>\n",
       "  </thead>\n",
       "  <tbody>\n",
       "    <tr>\n",
       "      <th>ensino médio</th>\n",
       "      <td>18</td>\n",
       "      <td>11.528333</td>\n",
       "      <td>3.610471</td>\n",
       "      <td>13.035503</td>\n",
       "      <td>5.73</td>\n",
       "      <td>8.8375</td>\n",
       "      <td>10.910</td>\n",
       "      <td>14.4175</td>\n",
       "      <td>19.40</td>\n",
       "    </tr>\n",
       "    <tr>\n",
       "      <th>ensino fundamental</th>\n",
       "      <td>12</td>\n",
       "      <td>7.836667</td>\n",
       "      <td>2.830599</td>\n",
       "      <td>8.012289</td>\n",
       "      <td>4.00</td>\n",
       "      <td>6.0075</td>\n",
       "      <td>7.125</td>\n",
       "      <td>9.1625</td>\n",
       "      <td>13.85</td>\n",
       "    </tr>\n",
       "    <tr>\n",
       "      <th>superior</th>\n",
       "      <td>6</td>\n",
       "      <td>16.475000</td>\n",
       "      <td>4.110145</td>\n",
       "      <td>16.893292</td>\n",
       "      <td>10.53</td>\n",
       "      <td>13.6475</td>\n",
       "      <td>16.740</td>\n",
       "      <td>18.3775</td>\n",
       "      <td>23.30</td>\n",
       "    </tr>\n",
       "  </tbody>\n",
       "</table>\n",
       "</div>"
      ],
      "text/plain": [
       "                     n    mean(s)     dp(s)     var(s)   S(1)       q1  \\\n",
       "Grau de Instrução                                                        \n",
       "ensino médio        18  11.528333  3.610471  13.035503   5.73   8.8375   \n",
       "ensino fundamental  12   7.836667  2.830599   8.012289   4.00   6.0075   \n",
       "superior             6  16.475000  4.110145  16.893292  10.53  13.6475   \n",
       "\n",
       "                        q2       q3   S(n)  \n",
       "Grau de Instrução                           \n",
       "ensino médio        10.910  14.4175  19.40  \n",
       "ensino fundamental   7.125   9.1625  13.85  \n",
       "superior            16.740  18.3775  23.30  "
      ]
     },
     "execution_count": 9,
     "metadata": {},
     "output_type": "execute_result"
    }
   ],
   "source": [
    "grau_instrucao = df[\"Grau de Instrução\"].value_counts().reset_index().rename(columns={\"index\": \"Grau de Instrução\", \"Grau de Instrução\": \"n\"})\n",
    "grau_instrucao_salario = grau_instrucao.merge(df.groupby(\"Grau de Instrução\")[\"Salario (x Sal Min)\"].mean().reset_index().rename(columns={\"Salario (x Sal Min)\": \"mean(s)\"}), on=\"Grau de Instrução\")\n",
    "grau_instrucao_salario.set_index(\"Grau de Instrução\", inplace=True)\n",
    "grau_instrucao_salario[\"dp(s)\"] = df.groupby(\"Grau de Instrução\")[\"Salario (x Sal Min)\"].apply(lambda x: desvio_padrao(x))\n",
    "grau_instrucao_salario[\"var(s)\"] = df.groupby(\"Grau de Instrução\")[\"Salario (x Sal Min)\"].apply(lambda x: variancia(x))\n",
    "grau_instrucao_salario[\"S(1)\"] = df.groupby(\"Grau de Instrução\")[\"Salario (x Sal Min)\"].min()\n",
    "grau_instrucao_salario[\"q1\"] = df.groupby(\"Grau de Instrução\")[\"Salario (x Sal Min)\"].quantile(0.25)\n",
    "grau_instrucao_salario[\"q2\"] = df.groupby(\"Grau de Instrução\")[\"Salario (x Sal Min)\"].quantile(0.5)\n",
    "grau_instrucao_salario[\"q3\"] = df.groupby(\"Grau de Instrução\")[\"Salario (x Sal Min)\"].quantile(0.75)\n",
    "grau_instrucao_salario[\"S(n)\"] = df.groupby(\"Grau de Instrução\")[\"Salario (x Sal Min)\"].max()\n",
    "grau_instrucao_salario"
   ]
  },
  {
   "cell_type": "code",
   "execution_count": null,
   "metadata": {},
   "outputs": [
    {
     "data": {
      "text/plain": [
       "<Axes: title={'center': 'Salários segundo grau de instrução'}, xlabel='Grau de Instrução', ylabel='Salario (x Sal Min)'>"
      ]
     },
     "execution_count": 62,
     "metadata": {},
     "output_type": "execute_result"
    },
    {
     "data": {
      "image/png": "[encoded data removed]",
      "text/plain": [
       "<Figure size 1200x600 with 1 Axes>"
      ]
     },
     "metadata": {},
     "output_type": "display_data"
    }
   ],
   "source": [
    "ax = sns.boxplot(x = 'Grau de Instrução', y = 'Salario (x Sal Min)', data=df)\n",
    "ax.figure.set_size_inches(12, 6)\n",
    "ax.set_title('Salários segundo grau de instrução', fontsize = 18)\n",
    "ax.set_xlabel('Grau de Instrução', fontsize = 14)\n",
    "ax"
   ]
  },
  {
   "attachments": {},
   "cell_type": "markdown",
   "metadata": {},
   "source": [
    "## Salários segundo a região de procedência"
   ]
  },
  {
   "cell_type": "code",
   "execution_count": null,
   "metadata": {},
   "outputs": [
    {
     "data": {
      "text/html": [
       "<div>\n",
       "<style scoped>\n",
       "    .dataframe tbody tr th:only-of-type {\n",
       "        vertical-align: middle;\n",
       "    }\n",
       "\n",
       "    .dataframe tbody tr th {\n",
       "        vertical-align: top;\n",
       "    }\n",
       "\n",
       "    .dataframe thead th {\n",
       "        text-align: right;\n",
       "    }\n",
       "</style>\n",
       "<table border=\"1\" class=\"dataframe\">\n",
       "  <thead>\n",
       "    <tr style=\"text-align: right;\">\n",
       "      <th></th>\n",
       "      <th>n</th>\n",
       "      <th>mean(s)</th>\n",
       "      <th>dp(s)</th>\n",
       "      <th>var(s)</th>\n",
       "      <th>S(1)</th>\n",
       "      <th>q1</th>\n",
       "      <th>q2</th>\n",
       "      <th>q3</th>\n",
       "      <th>S(n)</th>\n",
       "    </tr>\n",
       "    <tr>\n",
       "      <th>Região de Procedência</th>\n",
       "      <th></th>\n",
       "      <th></th>\n",
       "      <th></th>\n",
       "      <th></th>\n",
       "      <th></th>\n",
       "      <th></th>\n",
       "      <th></th>\n",
       "      <th></th>\n",
       "      <th></th>\n",
       "    </tr>\n",
       "  </thead>\n",
       "  <tbody>\n",
       "    <tr>\n",
       "      <th>outra</th>\n",
       "      <td>13</td>\n",
       "      <td>10.445385</td>\n",
       "      <td>3.022054</td>\n",
       "      <td>9.132809</td>\n",
       "      <td>5.73</td>\n",
       "      <td>8.740</td>\n",
       "      <td>9.800</td>\n",
       "      <td>12.790</td>\n",
       "      <td>16.22</td>\n",
       "    </tr>\n",
       "    <tr>\n",
       "      <th>interior</th>\n",
       "      <td>12</td>\n",
       "      <td>11.550000</td>\n",
       "      <td>5.070587</td>\n",
       "      <td>25.710850</td>\n",
       "      <td>4.00</td>\n",
       "      <td>7.805</td>\n",
       "      <td>10.645</td>\n",
       "      <td>14.695</td>\n",
       "      <td>23.30</td>\n",
       "    </tr>\n",
       "    <tr>\n",
       "      <th>capital</th>\n",
       "      <td>11</td>\n",
       "      <td>11.455455</td>\n",
       "      <td>5.221784</td>\n",
       "      <td>27.267025</td>\n",
       "      <td>4.56</td>\n",
       "      <td>7.490</td>\n",
       "      <td>9.770</td>\n",
       "      <td>16.625</td>\n",
       "      <td>19.40</td>\n",
       "    </tr>\n",
       "  </tbody>\n",
       "</table>\n",
       "</div>"
      ],
      "text/plain": [
       "                        n    mean(s)     dp(s)     var(s)  S(1)     q1  \\\n",
       "Região de Procedência                                                    \n",
       "outra                  13  10.445385  3.022054   9.132809  5.73  8.740   \n",
       "interior               12  11.550000  5.070587  25.710850  4.00  7.805   \n",
       "capital                11  11.455455  5.221784  27.267025  4.56  7.490   \n",
       "\n",
       "                           q2      q3   S(n)  \n",
       "Região de Procedência                         \n",
       "outra                   9.800  12.790  16.22  \n",
       "interior               10.645  14.695  23.30  \n",
       "capital                 9.770  16.625  19.40  "
      ]
     },
     "execution_count": 63,
     "metadata": {},
     "output_type": "execute_result"
    }
   ],
   "source": [
    "grau_instrucao = df[\"Região de Procedência\"].value_counts().reset_index().rename(columns={\"index\": \"Região de Procedência\", \"Região de Procedência\": \"n\"})\n",
    "grau_instrucao_salario = grau_instrucao.merge(df.groupby(\"Região de Procedência\")[\"Salario (x Sal Min)\"].mean().reset_index().rename(columns={\"Salario (x Sal Min)\": \"mean(s)\"}), on=\"Região de Procedência\")\n",
    "grau_instrucao_salario.set_index(\"Região de Procedência\", inplace=True)\n",
    "grau_instrucao_salario[\"dp(s)\"] = df.groupby(\"Região de Procedência\")[\"Salario (x Sal Min)\"].apply(lambda x: desvio_padrao(x))\n",
    "grau_instrucao_salario[\"var(s)\"] = df.groupby(\"Região de Procedência\")[\"Salario (x Sal Min)\"].apply(lambda x: variancia(x))\n",
    "grau_instrucao_salario[\"S(1)\"] = df.groupby(\"Região de Procedência\")[\"Salario (x Sal Min)\"].min()\n",
    "grau_instrucao_salario[\"q1\"] = df.groupby(\"Região de Procedência\")[\"Salario (x Sal Min)\"].quantile(0.25)\n",
    "grau_instrucao_salario[\"q2\"] = df.groupby(\"Região de Procedência\")[\"Salario (x Sal Min)\"].quantile(0.5)\n",
    "grau_instrucao_salario[\"q3\"] = df.groupby(\"Região de Procedência\")[\"Salario (x Sal Min)\"].quantile(0.75)\n",
    "grau_instrucao_salario[\"S(n)\"] = df.groupby(\"Região de Procedência\")[\"Salario (x Sal Min)\"].max()\n",
    "grau_instrucao_salario"
   ]
  },
  {
   "cell_type": "code",
   "execution_count": 6,
   "metadata": {},
   "outputs": [
    {
     "data": {
      "text/plain": [
       "<Axes: title={'center': 'Salários segundo grau de região de procedência'}, xlabel='Região de Procedência', ylabel='Salario (x Sal Min)'>"
      ]
     },
     "execution_count": 6,
     "metadata": {},
     "output_type": "execute_result"
    },
    {
     "data": {
      "image/png": "[encoded data removed]",
      "text/plain": [
       "<Figure size 1200x600 with 1 Axes>"
      ]
     },
     "metadata": {},
     "output_type": "display_data"
    }
   ],
   "source": [
    "ax = sns.boxplot(x = 'Região de Procedência', y = 'Salario (x Sal Min)', data=df)\n",
    "ax.figure.set_size_inches(12, 6)\n",
    "ax.set_title('Salários segundo grau de região de procedência', fontsize = 18)\n",
    "ax.set_xlabel('Região de Procedência', fontsize = 14)\n",
    "ax"
   ]
  },
  {
   "cell_type": "markdown",
   "metadata": {},
   "source": [
    "Variância Global"
   ]
  },
  {
   "cell_type": "markdown",
   "metadata": {},
   "source": [
    "$$ \\overline{var(S)} = \\frac{\\sum_{i=1}^k n_i \\times var_j(S)}{\\sum_{i=1}^k n_i} $$"
   ]
  },
  {
   "cell_type": "code",
   "execution_count": 20,
   "metadata": {},
   "outputs": [],
   "source": [
    "global_var_s = df[\"Salario (x Sal Min)\"].apply(lambda x: (x - df[\"Salario (x Sal Min)\"].mean()) ** 2).sum() / df.shape[0]"
   ]
  },
  {
   "cell_type": "code",
   "execution_count": 21,
   "metadata": {},
   "outputs": [],
   "source": [
    "var_s = sum([grau_instrucao_salario.loc[index, \"n\"] * grau_instrucao_salario.loc[index, \"var(s)\"] for index in grau_instrucao_salario.index]) / grau_instrucao_salario[\"n\"].sum()"
   ]
  },
  {
   "cell_type": "code",
   "execution_count": 22,
   "metadata": {},
   "outputs": [
    {
     "data": {
      "text/plain": [
       "0.41329658948948944"
      ]
     },
     "execution_count": 22,
     "metadata": {},
     "output_type": "execute_result"
    }
   ],
   "source": [
    "R2 = 1 - (var_s / global_var_s)\n",
    "R2"
   ]
  },
  {
   "cell_type": "code",
   "execution_count": null,
   "metadata": {},
   "outputs": [],
   "source": []
  }
 ],
 "metadata": {
  "kernelspec": {
   "display_name": "ds",
   "language": "python",
   "name": "python3"
  },
  "language_info": {
   "codemirror_mode": {
    "name": "ipython",
    "version": 3
   },
   "file_extension": ".py",
   "mimetype": "text/x-python",
   "name": "python",
   "nbconvert_exporter": "python",
   "pygments_lexer": "ipython3",
   "version": "3.11.3"
  },
  "orig_nbformat": 4
 },
 "nbformat": 4,
 "nbformat_minor": 2
}
